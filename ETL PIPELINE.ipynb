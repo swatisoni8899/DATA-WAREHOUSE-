{
 "cells": [
  {
   "cell_type": "markdown",
   "metadata": {
    "application/vnd.databricks.v1+cell": {
     "cellMetadata": {},
     "inputWidgets": {},
     "nuid": "bc1b73e0-0cb1-4417-988c-cc6b61db0ffd",
     "showTitle": false,
     "tableResultSettingsMap": {},
     "title": ""
    }
   },
   "source": [
    "# BUILDING DATA WAREHOUSE"
   ]
  },
  {
   "cell_type": "code",
   "execution_count": 0,
   "metadata": {
    "application/vnd.databricks.v1+cell": {
     "cellMetadata": {
      "byteLimit": 2048000,
      "rowLimit": 10000
     },
     "inputWidgets": {},
     "nuid": "7ec3996b-3c76-4a57-a35d-0849774fb78e",
     "showTitle": false,
     "tableResultSettingsMap": {},
     "title": ""
    }
   },
   "outputs": [
    {
     "output_type": "display_data",
     "data": {
      "text/html": [
       "\n",
       "            <div>\n",
       "                <p><b>SparkSession - hive</b></p>\n",
       "                \n",
       "        <div>\n",
       "            <p><b>SparkContext</b></p>\n",
       "\n",
       "            <p><a href=\"/?o=3355315970359751#setting/sparkui/0313-200144-lca0epl5/driver-6149539514881531006\">Spark UI</a></p>\n",
       "\n",
       "            <dl>\n",
       "              <dt>Version</dt>\n",
       "                <dd><code>v3.3.2</code></dd>\n",
       "              <dt>Master</dt>\n",
       "                <dd><code>local[8]</code></dd>\n",
       "              <dt>AppName</dt>\n",
       "                <dd><code>Databricks Shell</code></dd>\n",
       "            </dl>\n",
       "        </div>\n",
       "        \n",
       "            </div>\n",
       "        "
      ]
     },
     "metadata": {
      "application/vnd.databricks.v1+output": {
       "addedWidgets": {},
       "arguments": {},
       "data": "\n            <div>\n                <p><b>SparkSession - hive</b></p>\n                \n        <div>\n            <p><b>SparkContext</b></p>\n\n            <p><a href=\"/?o=3355315970359751#setting/sparkui/0313-200144-lca0epl5/driver-6149539514881531006\">Spark UI</a></p>\n\n            <dl>\n              <dt>Version</dt>\n                <dd><code>v3.3.2</code></dd>\n              <dt>Master</dt>\n                <dd><code>local[8]</code></dd>\n              <dt>AppName</dt>\n                <dd><code>Databricks Shell</code></dd>\n            </dl>\n        </div>\n        \n            </div>\n        ",
       "datasetInfos": [],
       "metadata": {},
       "removedWidgets": [],
       "textData": null,
       "type": "htmlSandbox"
      }
     },
     "output_type": "display_data"
    }
   ],
   "source": [
    "spark"
   ]
  },
  {
   "cell_type": "markdown",
   "metadata": {
    "application/vnd.databricks.v1+cell": {
     "cellMetadata": {},
     "inputWidgets": {},
     "nuid": "6e01825d-53a7-42e8-9ff4-c035c86119c3",
     "showTitle": false,
     "tableResultSettingsMap": {},
     "title": ""
    }
   },
   "source": [
    "## Extracts data from your chosen sources"
   ]
  },
  {
   "cell_type": "code",
   "execution_count": 0,
   "metadata": {
    "application/vnd.databricks.v1+cell": {
     "cellMetadata": {
      "byteLimit": 2048000,
      "rowLimit": 10000
     },
     "inputWidgets": {},
     "nuid": "56e778e9-f717-47e8-bbf2-8694bd953513",
     "showTitle": false,
     "tableResultSettingsMap": {},
     "title": ""
    }
   },
   "outputs": [
    {
     "output_type": "stream",
     "name": "stdout",
     "output_type": "stream",
     "text": [
      "+--------+--------------------+-----------+\n|database|           tableName|isTemporary|\n+--------+--------------------+-----------+\n| default| attractions_visited|      false|\n| default|     flight_bookings|      false|\n| default|         hotel_stays|      false|\n| default|tourist_demographics|      false|\n+--------+--------------------+-----------+\n\n+-------------+-----------------+--------+----------+--------------+------------------+--------------+\n|attraction_id|  attraction_name|    city|visit_date|visitors_count|           revenue|average_rating|\n+-------------+-----------------+--------+----------+--------------+------------------+--------------+\n|            1|     Eiffel Tower|   Paris|2024-11-10|            64|           4195.84|          3.35|\n|            2|Statue of Liberty|New York|2024-05-14|           884|           40133.6|          3.68|\n|            3|     Eiffel Tower|   Paris|2025-02-17|           192|          17383.68|          4.02|\n|            4|     Burj Khalifa|   Dubai|2024-08-30|           257|10752.880000000001|          4.68|\n|            5|     Eiffel Tower|   Paris|2025-02-20|           848|           52236.8|          3.45|\n|            6|     Burj Khalifa|   Dubai|2024-05-25|           399|          16315.11|          3.85|\n|            7|Statue of Liberty|New York|2024-09-06|           777|47319.299999999996|          4.48|\n|            8|     Eiffel Tower|   Paris|2025-01-24|           971| 89535.90999999999|          4.25|\n|            9|     Eiffel Tower|   Paris|2024-03-17|           100|            9276.0|          3.07|\n|           10|Statue of Liberty|New York|2025-01-17|           927| 75504.15000000001|          3.26|\n+-------------+-----------------+--------+----------+--------------+------------------+--------------+\n\n+----------+-----------+-------------+---------------+-----------+----------------+--------------+------------+------------+------------+\n|booking_id|customer_id|flight_number|        airline|origin_city|destination_city|departure_date|arrival_date|booking_date|ticket_price|\n+----------+-----------+-------------+---------------+-----------+----------------+--------------+------------+------------+------------+\n|         1|        500|       FL6844|United Airlines|      Tokyo|          London|    2025-04-03|  2025-04-03|  2025-02-15|      819.79|\n|         2|        380|       FL8071|       Emirates|     London|           Tokyo|    2024-08-06|  2024-08-06|  2024-08-06|       565.6|\n|         3|        699|       FL6921|       Emirates|    Toronto|          London|    2024-10-08|  2024-10-08|  2024-08-22|      513.88|\n|         4|        391|       FL4809|      Lufthansa|     London|           Tokyo|    2025-01-22|  2025-01-22|  2025-01-08|      852.24|\n|         5|        156|       FL1878|  Qatar Airways|    Toronto|           Paris|    2024-08-04|  2024-08-04|  2024-06-11|     1453.13|\n|         6|        278|       FL8064|  Qatar Airways|     Sydney|         Toronto|    2024-06-15|  2024-06-15|  2024-05-24|     1034.11|\n|         7|        968|       FL3004|       Emirates|      Paris|          Sydney|    2025-01-17|  2025-01-17|  2024-12-07|      727.48|\n|         8|        582|       FL6441|  Qatar Airways|      Dubai|        New York|    2025-02-08|  2025-02-08|  2025-01-14|      317.86|\n|         9|        542|       FL6294|      Lufthansa|      Paris|        New York|    2024-05-19|  2024-05-19|  2024-04-24|      554.34|\n|        10|        462|       FL9525|          Delta|   New York|          Sydney|    2025-01-26|  2025-01-26|  2024-12-15|      840.54|\n+----------+-----------+-------------+---------------+-----------+----------------+--------------+------------+------------+------------+\n\n+----------+-----------+-----------------+--------+---------+-------------+--------------+------------+------------+\n|booking_id|customer_id|       hotel_name|    city|room_type|check_in_date|check_out_date|booking_date|total_amount|\n+----------+-----------+-----------------+--------+---------+-------------+--------------+------------+------------+\n|         1|        796|      Grand Plaza|  London|   Double|   2024-09-19|    2024-09-26|  2024-08-25|      990.34|\n|         2|        876|      Comfort Inn|New York|    Suite|   2024-09-20|    2024-09-26|  2024-09-14|      235.59|\n|         3|        174|City Lights Hotel| Toronto|    Suite|   2024-06-21|    2024-06-28|  2024-06-10|      922.14|\n|         4|        433|      Comfort Inn|   Paris|   Single|   2024-07-25|    2024-07-31|  2024-07-04|      756.29|\n|         5|        356|City Lights Hotel|New York|    Suite|   2024-09-25|    2024-10-01|  2024-09-15|       79.74|\n|         6|        298|      Grand Plaza|   Dubai|   Single|   2024-09-02|    2024-09-09|  2024-08-20|      665.91|\n|         7|        388| Oceanview Resort| Toronto|    Suite|   2024-03-21|    2024-03-24|  2024-03-13|      643.37|\n|         8|        732| Oceanview Resort| Toronto|   Double|   2025-02-21|    2025-02-28|  2025-02-18|      814.98|\n|         9|        192| Oceanview Resort|New York|    Suite|   2024-07-23|    2024-07-28|  2024-07-04|      291.78|\n|        10|        959|City Lights Hotel|New York|    Suite|   2024-08-24|    2024-08-25|  2024-08-19|      920.48|\n+----------+-----------+-----------------+--------+---------+-------------+--------------+------------+------------+\n\n+-----------+----------+---------+------+---+--------------------+--------------+\n|customer_id|first_name|last_name|gender|age|         nationality|travel_purpose|\n+-----------+----------+---------+------+---+--------------------+--------------+\n|          1|      John| Phillips|  Male| 55|              Sweden|     Education|\n|          2|     David|   Sawyer|Female| 55|             Belarus|      Business|\n|          3|      Juan|     Bell|  Male| 56|           Greenland|      Business|\n|          4|     Paula|  Sherman|Female| 46|         El Salvador|       Medical|\n|          5|   Anthony|   Briggs|Female| 27|         Saint Lucia|       Medical|\n|          6|    Tyrone|  Roberts|  Male| 52|        Sierra Leone|     Education|\n|          7|      John|  Jackson|Female| 60|   Wallis and Futuna|       Medical|\n|          8|  Jonathan|   Jacobs|Female| 33|               Niger|     Education|\n|          9|     Steve|    Lyons|Female| 61|          Uzbekistan|     Education|\n|         10|     Jacob|  Donovan|  Male| 40|Palestinian Terri...|       Medical|\n+-----------+----------+---------+------+---+--------------------+--------------+\n\n"
     ]
    }
   ],
   "source": [
    "# Import Spark libraries\n",
    "from pyspark.sql import SparkSession\n",
    "from pyspark.sql.types import StructType, StructField, IntegerType, StringType\n",
    "\n",
    "# Create a SparkSession (Databricks typically provides one by default)\n",
    "spark = SparkSession.builder.appName(\"TourismDataLoad\").getOrCreate()\n",
    "\n",
    "# Define the file paths (assuming they are uploaded to Databricks DBFS or local paths in Databricks environment)\n",
    "attractions_visited_path = '/FileStore/tables/attractions_visited.csv'\n",
    "flight_bookings_path = '/FileStore/tables/flight_bookings.csv'\n",
    "hotel_stays_path = '/FileStore/tables/hotel_stays.csv'\n",
    "tourist_demographics_path = 'dbfs:/FileStore/shared_uploads/swatisoni8899@gmail.com/tourist_demographics_lines-1.json'\n",
    "\n",
    "\n",
    "# ----------------------------\n",
    "# 1. Load CSV files\n",
    "# ----------------------------\n",
    "df_attractions = spark.read.format('csv') \\\n",
    "    .option('header', 'true') \\\n",
    "    .option('inferSchema', 'true') \\\n",
    "    .load(attractions_visited_path)\n",
    "\n",
    "df_flight_bookings = spark.read.format('csv') \\\n",
    "    .option('header', 'true') \\\n",
    "    .option('inferSchema', 'true') \\\n",
    "    .load(flight_bookings_path)\n",
    "\n",
    "df_hotel_stays = spark.read.format('csv') \\\n",
    "    .option('header', 'true') \\\n",
    "    .option('inferSchema', 'true') \\\n",
    "    .load(hotel_stays_path)\n",
    "\n",
    "# ----------------------------\n",
    "# 2. Define Schema for JSON and Load\n",
    "# ----------------------------\n",
    "demographics_schema = StructType([\n",
    "    StructField(\"customer_id\", IntegerType(), True),\n",
    "    StructField(\"first_name\", StringType(), True),\n",
    "    StructField(\"last_name\", StringType(), True),\n",
    "    StructField(\"gender\", StringType(), True),\n",
    "    StructField(\"age\", IntegerType(), True),\n",
    "    StructField(\"nationality\", StringType(), True),\n",
    "    StructField(\"travel_purpose\", StringType(), True)\n",
    "])\n",
    "\n",
    "df_tourist_demographics = spark.read \\\n",
    "    .schema(demographics_schema) \\\n",
    "    .json(tourist_demographics_path)\n",
    "\n",
    "# ----------------------------\n",
    "# 3. Save DataFrames as Delta Tables\n",
    "# ----------------------------\n",
    "\n",
    "df_attractions.write.format(\"delta\").mode(\"overwrite\").saveAsTable(\"attractions_visited\")\n",
    "df_flight_bookings.write.format(\"delta\").mode(\"overwrite\").saveAsTable(\"flight_bookings\")\n",
    "df_hotel_stays.write.format(\"delta\").mode(\"overwrite\").saveAsTable(\"hotel_stays\")\n",
    "df_tourist_demographics.write.format(\"delta\").mode(\"overwrite\").saveAsTable(\"tourist_demographics\")\n",
    "\n",
    "# ----------------------------\n",
    "# 4. Verify the tables\n",
    "# ----------------------------\n",
    "\n",
    "# Show all tables in your current database\n",
    "spark.sql(\"SHOW TABLES\").show()\n",
    "\n",
    "# Optional: Preview the data in tables\n",
    "spark.sql(\"SELECT * FROM attractions_visited LIMIT 10\").show()\n",
    "spark.sql(\"SELECT * FROM flight_bookings LIMIT 10\").show()\n",
    "spark.sql(\"SELECT * FROM hotel_stays LIMIT 10\").show()\n",
    "spark.sql(\"SELECT * FROM tourist_demographics LIMIT 10\").show()"
   ]
  },
  {
   "cell_type": "markdown",
   "metadata": {
    "application/vnd.databricks.v1+cell": {
     "cellMetadata": {},
     "inputWidgets": {},
     "nuid": "3cd788b5-cb40-4fe5-b2b8-33e5602a465f",
     "showTitle": false,
     "tableResultSettingsMap": {},
     "title": ""
    }
   },
   "source": [
    "##Transforms the data into a normalized structure"
   ]
  },
  {
   "cell_type": "code",
   "execution_count": 0,
   "metadata": {
    "application/vnd.databricks.v1+cell": {
     "cellMetadata": {
      "byteLimit": 2048000,
      "rowLimit": 10000
     },
     "inputWidgets": {},
     "nuid": "714ec28f-234d-4bd9-963e-d00dd59e71cf",
     "showTitle": false,
     "tableResultSettingsMap": {},
     "title": ""
    }
   },
   "outputs": [
    {
     "output_type": "stream",
     "name": "stdout",
     "output_type": "stream",
     "text": [
      "+--------+--------------------+-----------+\n|database|           tableName|isTemporary|\n+--------+--------------------+-----------+\n| default| attractions_visited|      false|\n| default|     flight_bookings|      false|\n| default|         hotel_stays|      false|\n| default|normalized_attrac...|      false|\n| default|normalized_attrac...|      false|\n| default|   normalized_cities|      false|\n| default|normalized_flight...|      false|\n| default|normalized_hotel_...|      false|\n| default|   normalized_hotels|      false|\n| default|normalized_nation...|      false|\n| default|  normalized_tourist|      false|\n| default|normalized_travel...|      false|\n| default|tourist_demographics|      false|\n+--------+--------------------+-----------+\n\n+-----------+----------+---------+------+---+--------------+-----------------+\n|customer_id|first_name|last_name|gender|age|nationality_id|travel_purpose_id|\n+-----------+----------+---------+------+---+--------------+-----------------+\n|          1|      John| Phillips|  Male| 55|             7|                0|\n|          2|     David|   Sawyer|Female| 55|            74|                1|\n|          3|      Juan|     Bell|  Male| 56|           203|                1|\n|          4|     Paula|  Sherman|Female| 46|           216|                3|\n|          5|   Anthony|   Briggs|Female| 27|           174|                3|\n|          6|    Tyrone|  Roberts|  Male| 52|            68|                0|\n|          7|      John|  Jackson|Female| 60|           163|                3|\n|          8|  Jonathan|   Jacobs|Female| 33|           106|                0|\n|          9|     Steve|    Lyons|Female| 61|           179|                0|\n|         10|     Jacob|  Donovan|  Male| 40|            82|                3|\n+-----------+----------+---------+------+---+--------------+-----------------+\n\n+----------+-----------+-------------+---------------+--------------+-------------------+--------------+------------+------------+------------+\n|booking_id|customer_id|flight_number|        airline|origin_city_id|destination_city_id|departure_date|arrival_date|booking_date|ticket_price|\n+----------+-----------+-------------+---------------+--------------+-------------------+--------------+------------+------------+------------+\n|         1|        500|       FL6844|United Airlines|             1|                  0|    2025-04-03|  2025-04-03|  2025-02-15|      819.79|\n|         2|        380|       FL8071|       Emirates|             0|                  1|    2024-08-06|  2024-08-06|  2024-08-06|       565.6|\n|         3|        699|       FL6921|       Emirates|             4|                  0|    2024-10-08|  2024-10-08|  2024-08-22|      513.88|\n|         4|        391|       FL4809|      Lufthansa|             0|                  1|    2025-01-22|  2025-01-22|  2025-01-08|      852.24|\n|         5|        156|       FL1878|  Qatar Airways|             4|                  3|    2024-08-04|  2024-08-04|  2024-06-11|     1453.13|\n|         6|        278|       FL8064|  Qatar Airways|             2|                  4|    2024-06-15|  2024-06-15|  2024-05-24|     1034.11|\n|         7|        968|       FL3004|       Emirates|             3|                  2|    2025-01-17|  2025-01-17|  2024-12-07|      727.48|\n|         8|        582|       FL6441|  Qatar Airways|             5|                  6|    2025-02-08|  2025-02-08|  2025-01-14|      317.86|\n|         9|        542|       FL6294|      Lufthansa|             3|                  6|    2024-05-19|  2024-05-19|  2024-04-24|      554.34|\n|        10|        462|       FL9525|          Delta|             6|                  2|    2025-01-26|  2025-01-26|  2024-12-15|      840.54|\n+----------+-----------+-------------+---------------+--------------+-------------------+--------------+------------+------------+------------+\n\n+-------+-----------+--------+-------+----------+----------+--------------+\n|stay_id|customer_id|hotel_id|city_id|  check_in| check_out|booking_amount|\n+-------+-----------+--------+-------+----------+----------+--------------+\n|      1|        796|       1|      0|2024-09-19|2024-09-26|        990.34|\n|      2|        876|       2|      6|2024-09-20|2024-09-26|        235.59|\n|      3|        174|       3|      4|2024-06-21|2024-06-28|        922.14|\n|      4|        433|       2|      3|2024-07-25|2024-07-31|        756.29|\n|      5|        356|       3|      6|2024-09-25|2024-10-01|         79.74|\n|      6|        298|       1|      5|2024-09-02|2024-09-09|        665.91|\n|      7|        388|       0|      4|2024-03-21|2024-03-24|        643.37|\n|      8|        732|       0|      4|2025-02-21|2025-02-28|        814.98|\n|      9|        192|       0|      6|2024-07-23|2024-07-28|        291.78|\n|     10|        959|       3|      6|2024-08-24|2024-08-25|        920.48|\n+-------+-----------+--------+-------+----------+----------+--------------+\n\n+--------+-------------+------------------------+-------+----------+--------------+------------------+--------------+\n|visit_id|attraction_id|normalized_attraction_id|city_id|visit_date|visitors_count|           revenue|average_rating|\n+--------+-------------+------------------------+-------+----------+--------------+------------------+--------------+\n|       0|            1|                       0|      3|2024-11-10|            64|           4195.84|          3.35|\n|       1|            2|                       2|      6|2024-05-14|           884|           40133.6|          3.68|\n|       2|            3|                       0|      3|2025-02-17|           192|          17383.68|          4.02|\n|       3|            4|                       3|      5|2024-08-30|           257|10752.880000000001|          4.68|\n|       4|            5|                       0|      3|2025-02-20|           848|           52236.8|          3.45|\n|       5|            6|                       3|      5|2024-05-25|           399|          16315.11|          3.85|\n|       6|            7|                       2|      6|2024-09-06|           777|47319.299999999996|          4.48|\n|       7|            8|                       0|      3|2025-01-24|           971| 89535.90999999999|          4.25|\n|       8|            9|                       0|      3|2024-03-17|           100|            9276.0|          3.07|\n|       9|           10|                       2|      6|2025-01-17|           927| 75504.15000000001|          3.26|\n+--------+-------------+------------------------+-------+----------+--------------+------------------+--------------+\n\n"
     ]
    }
   ],
   "source": [
    "from pyspark.sql import SparkSession\n",
    "from pyspark.sql.functions import trim, monotonically_increasing_id, col\n",
    "\n",
    "# Initialize Spark Session\n",
    "spark = SparkSession.builder.appName(\"Normalization3NF\").getOrCreate()\n",
    "\n",
    "# --------------------------\n",
    "# Load Raw Datasets (Staging Layer)\n",
    "# --------------------------\n",
    "tourist_df = spark.read.json('dbfs:/FileStore/shared_uploads/swatisoni8899@gmail.com/tourist_demographics_lines-1.json')\n",
    "flight_bookings_df = spark.read.option(\"header\", \"true\").option(\"inferSchema\", \"true\").csv('/FileStore/tables/flight_bookings.csv')\n",
    "hotel_stays_df = spark.read.option(\"header\", \"true\").option(\"inferSchema\", \"true\").csv('/FileStore/tables/hotel_stays.csv')\n",
    "attractions_visited_df = spark.read.option(\"header\", \"true\").option(\"inferSchema\", \"true\").csv('/FileStore/tables/attractions_visited.csv')\n",
    "\n",
    "# --------------------------\n",
    "# Dimension Tables (Normalized)\n",
    "# --------------------------\n",
    "\n",
    "# Nationality Dimension\n",
    "nationality_df = tourist_df.select(trim(col(\"nationality\")).alias(\"nationality\")).distinct() \\\n",
    "    .withColumn(\"nationality_id\", monotonically_increasing_id())\n",
    "\n",
    "# Travel Purpose Dimension\n",
    "travel_purpose_df = tourist_df.select(trim(col(\"travel_purpose\")).alias(\"travel_purpose\")).distinct() \\\n",
    "    .withColumn(\"travel_purpose_id\", monotonically_increasing_id())\n",
    "\n",
    "# Cities Dimension\n",
    "cities_from_flights = flight_bookings_df.select(trim(col(\"origin_city\")).alias(\"city\")).union(\n",
    "    flight_bookings_df.select(trim(col(\"destination_city\")).alias(\"city\"))\n",
    ").distinct()\n",
    "\n",
    "cities_from_hotels = hotel_stays_df.select(trim(col(\"city\")).alias(\"city\")).distinct()\n",
    "cities_from_attractions = attractions_visited_df.select(trim(col(\"city\")).alias(\"city\")).distinct()\n",
    "\n",
    "cities_df = cities_from_flights.union(cities_from_hotels).union(cities_from_attractions).distinct() \\\n",
    "    .withColumn(\"city_id\", monotonically_increasing_id())\n",
    "\n",
    "# Hotels Dimension\n",
    "hotels_df = hotel_stays_df.select(trim(col(\"hotel_name\")).alias(\"hotel_name\")).distinct() \\\n",
    "    .withColumn(\"hotel_id\", monotonically_increasing_id())\n",
    "\n",
    "# Attractions Dimension\n",
    "attractions_df = attractions_visited_df.select(trim(col(\"attraction_name\")).alias(\"attraction_name\")).distinct() \\\n",
    "    .withColumn(\"attraction_id\", monotonically_increasing_id())\n",
    "\n",
    "# --------------------------\n",
    "# Tourist Table (Normalized)\n",
    "# --------------------------\n",
    "tourist_clean_df = tourist_df.alias(\"tourist\") \\\n",
    "    .join(nationality_df.alias(\"nationality\"), trim(col(\"tourist.nationality\")) == col(\"nationality.nationality\"), \"left\") \\\n",
    "    .join(travel_purpose_df.alias(\"purpose\"), trim(col(\"tourist.travel_purpose\")) == col(\"purpose.travel_purpose\"), \"left\") \\\n",
    "    .select(\n",
    "        col(\"tourist.customer_id\"),\n",
    "        trim(col(\"tourist.first_name\")).alias(\"first_name\"),\n",
    "        trim(col(\"tourist.last_name\")).alias(\"last_name\"),\n",
    "        col(\"tourist.gender\"),\n",
    "        col(\"tourist.age\"),\n",
    "        col(\"nationality.nationality_id\"),\n",
    "        col(\"purpose.travel_purpose_id\")\n",
    "    )\n",
    "\n",
    "# --------------------------\n",
    "# Flight Bookings Table (Normalized)\n",
    "# --------------------------\n",
    "cities_df_origin = cities_df.alias(\"origin_city\")\n",
    "cities_df_destination = cities_df.alias(\"destination_city\")\n",
    "\n",
    "flight_bookings_clean_df = flight_bookings_df.alias(\"flight\") \\\n",
    "    .join(cities_df_origin, trim(col(\"flight.origin_city\")) == trim(col(\"origin_city.city\")), \"left\") \\\n",
    "    .join(cities_df_destination, trim(col(\"flight.destination_city\")) == trim(col(\"destination_city.city\")), \"left\") \\\n",
    "    .select(\n",
    "        col(\"flight.booking_id\"),\n",
    "        col(\"flight.customer_id\"),\n",
    "        col(\"flight.flight_number\"),\n",
    "        col(\"flight.airline\"),\n",
    "        col(\"origin_city.city_id\").alias(\"origin_city_id\"),\n",
    "        col(\"destination_city.city_id\").alias(\"destination_city_id\"),\n",
    "        col(\"flight.departure_date\"),\n",
    "        col(\"flight.arrival_date\"),\n",
    "        col(\"flight.booking_date\"),\n",
    "        col(\"flight.ticket_price\")\n",
    "    )\n",
    "\n",
    "# --------------------------\n",
    "# Hotel Stays Table (Normalized)\n",
    "# --------------------------\n",
    "hotels_df_alias = hotels_df.alias(\"hotels\")\n",
    "cities_df_alias = cities_df.alias(\"hotel_city\")\n",
    "\n",
    "hotel_stays_clean_df = hotel_stays_df.alias(\"hotel_stay\") \\\n",
    "    .join(hotels_df_alias, trim(col(\"hotel_stay.hotel_name\")) == trim(col(\"hotels.hotel_name\")), \"left\") \\\n",
    "    .join(cities_df_alias, trim(col(\"hotel_stay.city\")) == trim(col(\"hotel_city.city\")), \"left\") \\\n",
    "    .select(\n",
    "        col(\"hotel_stay.booking_id\").alias(\"stay_id\"),               # Renamed booking_id to stay_id\n",
    "        col(\"hotel_stay.customer_id\"),\n",
    "        col(\"hotels.hotel_id\"),\n",
    "        col(\"hotel_city.city_id\"),\n",
    "        col(\"hotel_stay.check_in_date\").alias(\"check_in\"),           # Aliased column for clarity\n",
    "        col(\"hotel_stay.check_out_date\").alias(\"check_out\"),         # Aliased column for clarity\n",
    "        col(\"hotel_stay.total_amount\").alias(\"booking_amount\")       # Aliased column for clarity\n",
    "    )\n",
    "\n",
    "# --------------------------\n",
    "# Attractions Visited Table (Normalized)\n",
    "# --------------------------\n",
    "# Add surrogate visit_id column (since the raw data doesn't have one)\n",
    "attractions_visited_df = attractions_visited_df \\\n",
    "    .withColumn(\"visit_id\", monotonically_increasing_id())\n",
    "\n",
    "attractions_df_alias = attractions_df.alias(\"attractions\")\n",
    "cities_df_alias_2 = cities_df.alias(\"attraction_city\")\n",
    "\n",
    "attractions_visited_clean_df = attractions_visited_df.alias(\"visit\") \\\n",
    "    .join(attractions_df_alias, trim(col(\"visit.attraction_name\")) == trim(col(\"attractions.attraction_name\")), \"left\") \\\n",
    "    .join(cities_df_alias_2, trim(col(\"visit.city\")) == trim(col(\"attraction_city.city\")), \"left\") \\\n",
    "    .select(\n",
    "        col(\"visit.visit_id\"),\n",
    "        col(\"visit.attraction_id\"),        # existing column in dataset\n",
    "        col(\"attractions.attraction_id\").alias(\"normalized_attraction_id\"),\n",
    "        col(\"attraction_city.city_id\"),\n",
    "        col(\"visit.visit_date\"),\n",
    "        col(\"visit.visitors_count\"),\n",
    "        col(\"visit.revenue\"),\n",
    "        col(\"visit.average_rating\")\n",
    "    )\n",
    "\n",
    "# --------------------------\n",
    "# Save Normalized Tables as Delta Tables\n",
    "# --------------------------\n",
    "\n",
    "# Dimension Tables\n",
    "nationality_df.write.format(\"delta\").mode(\"overwrite\").saveAsTable(\"normalized_nationality\")\n",
    "travel_purpose_df.write.format(\"delta\").mode(\"overwrite\").saveAsTable(\"normalized_travel_purpose\")\n",
    "cities_df.write.format(\"delta\").mode(\"overwrite\").saveAsTable(\"normalized_cities\")\n",
    "hotels_df.write.format(\"delta\").mode(\"overwrite\").saveAsTable(\"normalized_hotels\")\n",
    "attractions_df.write.format(\"delta\").mode(\"overwrite\").saveAsTable(\"normalized_attractions\")\n",
    "\n",
    "# Fact Tables (Normalized)\n",
    "tourist_clean_df.write.format(\"delta\").mode(\"overwrite\").saveAsTable(\"normalized_tourist\")\n",
    "flight_bookings_clean_df.write.format(\"delta\").mode(\"overwrite\").saveAsTable(\"normalized_flight_bookings\")\n",
    "hotel_stays_clean_df.write.format(\"delta\").mode(\"overwrite\").saveAsTable(\"normalized_hotel_stays\")\n",
    "attractions_visited_clean_df.write.format(\"delta\").mode(\"overwrite\").saveAsTable(\"normalized_attractions_visited\")\n",
    "\n",
    "# --------------------------\n",
    "# Verify Tables Created\n",
    "# --------------------------\n",
    "spark.sql(\"SHOW TABLES\").show()\n",
    "\n",
    "# OPTIONAL: Preview the data in tables\n",
    "spark.sql(\"SELECT * FROM normalized_tourist LIMIT 10\").show()\n",
    "spark.sql(\"SELECT * FROM normalized_flight_bookings LIMIT 10\").show()\n",
    "spark.sql(\"SELECT * FROM normalized_hotel_stays LIMIT 10\").show()\n",
    "spark.sql(\"SELECT * FROM normalized_attractions_visited LIMIT 10\").show()\n"
   ]
  },
  {
   "cell_type": "markdown",
   "metadata": {
    "application/vnd.databricks.v1+cell": {
     "cellMetadata": {},
     "inputWidgets": {},
     "nuid": "5be8ea07-53ab-49a9-a804-bdc3b696714b",
     "showTitle": false,
     "tableResultSettingsMap": {},
     "title": ""
    }
   },
   "source": [
    "##Loads the normalized data into staging tables "
   ]
  },
  {
   "cell_type": "code",
   "execution_count": 0,
   "metadata": {
    "application/vnd.databricks.v1+cell": {
     "cellMetadata": {
      "byteLimit": 2048000,
      "rowLimit": 10000
     },
     "inputWidgets": {},
     "nuid": "ef9ff820-fdbe-4448-ade9-6b91dcada60c",
     "showTitle": false,
     "tableResultSettingsMap": {},
     "title": ""
    }
   },
   "outputs": [],
   "source": [
    "from pyspark.sql import SparkSession\n",
    "from pyspark.sql.functions import trim, col, current_date, lit, monotonically_increasing_id\n",
    "\n",
    "# Start Spark Session\n",
    "spark = SparkSession.builder.appName(\"StarSchemaWithSCD\").getOrCreate()\n",
    "\n",
    "# Load the staging data (already normalized)\n",
    "tourist_df = spark.read.format(\"delta\").table(\"normalized_tourist\")\n",
    "cities_df = spark.read.format(\"delta\").table(\"normalized_cities\")\n",
    "hotels_df = spark.read.format(\"delta\").table(\"normalized_hotels\")\n",
    "attractions_df = spark.read.format(\"delta\").table(\"normalized_attractions\")\n",
    "flight_bookings_df = spark.read.format(\"delta\").table(\"normalized_flight_bookings\")\n",
    "hotel_stays_df = spark.read.format(\"delta\").table(\"normalized_hotel_stays\")\n",
    "attractions_visited_df = spark.read.format(\"delta\").table(\"normalized_attractions_visited\")\n",
    "\n"
   ]
  },
  {
   "cell_type": "markdown",
   "metadata": {
    "application/vnd.databricks.v1+cell": {
     "cellMetadata": {},
     "inputWidgets": {},
     "nuid": "17e8053b-4826-41ce-abb0-d7c23372ed54",
     "showTitle": false,
     "tableResultSettingsMap": {},
     "title": ""
    }
   },
   "source": [
    "##Data Quality Check"
   ]
  },
  {
   "cell_type": "code",
   "execution_count": 0,
   "metadata": {
    "application/vnd.databricks.v1+cell": {
     "cellMetadata": {
      "byteLimit": 2048000,
      "rowLimit": 10000
     },
     "inputWidgets": {},
     "nuid": "06db71c3-c5b4-48c2-86be-f16c9e452bde",
     "showTitle": false,
     "tableResultSettingsMap": {},
     "title": ""
    }
   },
   "outputs": [
    {
     "output_type": "stream",
     "name": "stdout",
     "output_type": "stream",
     "text": [
      "Row count for stg_tourist_demographics: 1000\n+---+-----------+----------+------+---------+-----------+--------------+\n|age|customer_id|first_name|gender|last_name|nationality|travel_purpose|\n+---+-----------+----------+------+---------+-----------+--------------+\n+---+-----------+----------+------+---------+-----------+--------------+\n\n+-----------+--------+\n|customer_id|count(1)|\n+-----------+--------+\n+-----------+--------+\n\n+------+\n|gender|\n+------+\n|Female|\n| Other|\n|  Male|\n+------+\n\n"
     ]
    }
   ],
   "source": [
    "# 1. Row Count\n",
    "row_count_tourist = spark.sql(\"SELECT COUNT(*) FROM stg_tourist_demographics\").first()[0]\n",
    "print(f\"Row count for stg_tourist_demographics: {row_count_tourist}\")\n",
    "\n",
    "# 2. Null Checks on Primary Fields\n",
    "spark.sql(\"\"\"\n",
    "    SELECT *\n",
    "    FROM stg_tourist_demographics\n",
    "    WHERE customer_id IS NULL\n",
    "\"\"\").show()\n",
    "\n",
    "# 3. Duplicate Check on customer_id\n",
    "spark.sql(\"\"\"\n",
    "    SELECT customer_id, COUNT(*)\n",
    "    FROM stg_tourist_demographics\n",
    "    GROUP BY customer_id\n",
    "    HAVING COUNT(*) > 1\n",
    "\"\"\").show()\n",
    "\n",
    "# 4. Data Domain Checks (Gender field)\n",
    "spark.sql(\"\"\"\n",
    "    SELECT DISTINCT gender\n",
    "    FROM stg_tourist_demographics\n",
    "\"\"\").show()\n"
   ]
  },
  {
   "cell_type": "code",
   "execution_count": 0,
   "metadata": {
    "application/vnd.databricks.v1+cell": {
     "cellMetadata": {
      "byteLimit": 2048000,
      "rowLimit": 10000
     },
     "inputWidgets": {},
     "nuid": "25307785-0307-4264-8cca-d0f2ead7d9d8",
     "showTitle": false,
     "tableResultSettingsMap": {},
     "title": ""
    }
   },
   "outputs": [
    {
     "output_type": "stream",
     "name": "stdout",
     "output_type": "stream",
     "text": [
      "Row count for stg_flight_bookings: 1000\n+----------+-----------+-------------+-------+-----------+----------------+--------------+------------+------------+------------+\n|booking_id|customer_id|flight_number|airline|origin_city|destination_city|departure_date|arrival_date|booking_date|ticket_price|\n+----------+-----------+-------------+-------+-----------+----------------+--------------+------------+------------+------------+\n+----------+-----------+-------------+-------+-----------+----------------+--------------+------------+------------+------------+\n\n+----------+--------+\n|booking_id|count(1)|\n+----------+--------+\n+----------+--------+\n\n+----------+-----------+-------------+-------+-----------+----------------+--------------+------------+------------+------------+\n|booking_id|customer_id|flight_number|airline|origin_city|destination_city|departure_date|arrival_date|booking_date|ticket_price|\n+----------+-----------+-------------+-------+-----------+----------------+--------------+------------+------------+------------+\n+----------+-----------+-------------+-------+-----------+----------------+--------------+------------+------------+------------+\n\n"
     ]
    }
   ],
   "source": [
    "# 1. Row Count\n",
    "row_count_flight = spark.sql(\"SELECT COUNT(*) FROM stg_flight_bookings\").first()[0]\n",
    "print(f\"Row count for stg_flight_bookings: {row_count_flight}\")\n",
    "\n",
    "# 2. Null Checks\n",
    "spark.sql(\"\"\"\n",
    "    SELECT *\n",
    "    FROM stg_flight_bookings\n",
    "    WHERE booking_id IS NULL OR customer_id IS NULL\n",
    "\"\"\").show()\n",
    "\n",
    "# 3. Duplicate Check on booking_id\n",
    "spark.sql(\"\"\"\n",
    "    SELECT booking_id, COUNT(*)\n",
    "    FROM stg_flight_bookings\n",
    "    GROUP BY booking_id\n",
    "    HAVING COUNT(*) > 1\n",
    "\"\"\").show()\n",
    "\n",
    "# 4. Domain Checks (Ticket Price >= 0)\n",
    "spark.sql(\"\"\"\n",
    "    SELECT *\n",
    "    FROM stg_flight_bookings\n",
    "    WHERE ticket_price < 0\n",
    "\"\"\").show()\n"
   ]
  },
  {
   "cell_type": "code",
   "execution_count": 0,
   "metadata": {
    "application/vnd.databricks.v1+cell": {
     "cellMetadata": {
      "byteLimit": 2048000,
      "rowLimit": 10000
     },
     "inputWidgets": {},
     "nuid": "28b879cd-294f-4a0d-baf9-48488385858a",
     "showTitle": false,
     "tableResultSettingsMap": {},
     "title": ""
    }
   },
   "outputs": [
    {
     "output_type": "stream",
     "name": "stdout",
     "output_type": "stream",
     "text": [
      "Row count for stg_hotel_stays: 1000\n+----------+-----------+----------+----+---------+-------------+--------------+------------+------------+\n|booking_id|customer_id|hotel_name|city|room_type|check_in_date|check_out_date|booking_date|total_amount|\n+----------+-----------+----------+----+---------+-------------+--------------+------------+------------+\n+----------+-----------+----------+----+---------+-------------+--------------+------------+------------+\n\n+----------+--------+\n|booking_id|count(1)|\n+----------+--------+\n+----------+--------+\n\n+----------+-----------+----------+----+---------+-------------+--------------+------------+------------+\n|booking_id|customer_id|hotel_name|city|room_type|check_in_date|check_out_date|booking_date|total_amount|\n+----------+-----------+----------+----+---------+-------------+--------------+------------+------------+\n+----------+-----------+----------+----+---------+-------------+--------------+------------+------------+\n\n"
     ]
    }
   ],
   "source": [
    "# 1. Row Count\n",
    "row_count_hotel = spark.sql(\"SELECT COUNT(*) FROM stg_hotel_stays\").first()[0]\n",
    "print(f\"Row count for stg_hotel_stays: {row_count_hotel}\")\n",
    "\n",
    "# 2. Null Checks\n",
    "spark.sql(\"\"\"\n",
    "    SELECT *\n",
    "    FROM stg_hotel_stays\n",
    "    WHERE booking_id IS NULL OR customer_id IS NULL\n",
    "\"\"\").show()\n",
    "\n",
    "# 3. Duplicate Check on booking_id\n",
    "spark.sql(\"\"\"\n",
    "    SELECT booking_id, COUNT(*)\n",
    "    FROM stg_hotel_stays\n",
    "    GROUP BY booking_id\n",
    "    HAVING COUNT(*) > 1\n",
    "\"\"\").show()\n",
    "\n",
    "# 4. Domain Check (Booking Amount >= 0)\n",
    "spark.sql(\"\"\"\n",
    "    SELECT *\n",
    "    FROM stg_hotel_stays\n",
    "    WHERE total_amount < 0\n",
    "\"\"\").show()\n"
   ]
  },
  {
   "cell_type": "code",
   "execution_count": 0,
   "metadata": {
    "application/vnd.databricks.v1+cell": {
     "cellMetadata": {
      "byteLimit": 2048000,
      "rowLimit": 10000
     },
     "inputWidgets": {},
     "nuid": "e4058e2d-0e11-49b1-b07a-f15447375301",
     "showTitle": false,
     "tableResultSettingsMap": {},
     "title": ""
    }
   },
   "outputs": [
    {
     "output_type": "stream",
     "name": "stdout",
     "output_type": "stream",
     "text": [
      "Row count for stg_attractions_visited: 1000\n+-------------+---------------+----+----------+--------------+-------+--------------+\n|attraction_id|attraction_name|city|visit_date|visitors_count|revenue|average_rating|\n+-------------+---------------+----+----------+--------------+-------+--------------+\n+-------------+---------------+----+----------+--------------+-------+--------------+\n\n+-------------+----------+--------+\n|attraction_id|visit_date|count(1)|\n+-------------+----------+--------+\n+-------------+----------+--------+\n\n+-------------+---------------+----+----------+--------------+-------+--------------+\n|attraction_id|attraction_name|city|visit_date|visitors_count|revenue|average_rating|\n+-------------+---------------+----+----------+--------------+-------+--------------+\n+-------------+---------------+----+----------+--------------+-------+--------------+\n\n"
     ]
    }
   ],
   "source": [
    "# 1. Row Count\n",
    "row_count_attractions = spark.sql(\"SELECT COUNT(*) FROM stg_attractions_visited\").first()[0]\n",
    "print(f\"Row count for stg_attractions_visited: {row_count_attractions}\")\n",
    "\n",
    "# 2. Null Checks\n",
    "spark.sql(\"\"\"\n",
    "    SELECT *\n",
    "    FROM stg_attractions_visited\n",
    "    WHERE attraction_id IS NULL\n",
    "\"\"\").show()\n",
    "\n",
    "# 3. Duplicate Check on attraction_id + visit_date (or combination key)\n",
    "spark.sql(\"\"\"\n",
    "    SELECT attraction_id, visit_date, COUNT(*)\n",
    "    FROM stg_attractions_visited\n",
    "    GROUP BY attraction_id, visit_date\n",
    "    HAVING COUNT(*) > 1\n",
    "\"\"\").show()\n",
    "\n",
    "# 4. Domain Check (Visitors count >= 0)\n",
    "spark.sql(\"\"\"\n",
    "    SELECT *\n",
    "    FROM stg_attractions_visited\n",
    "    WHERE visitors_count < 0\n",
    "\"\"\").show()\n"
   ]
  },
  {
   "cell_type": "markdown",
   "metadata": {
    "application/vnd.databricks.v1+cell": {
     "cellMetadata": {},
     "inputWidgets": {},
     "nuid": "090a9002-e83c-4238-86bc-00e0a902a084",
     "showTitle": false,
     "tableResultSettingsMap": {},
     "title": ""
    }
   },
   "source": [
    "##Build Dimensional Modeling"
   ]
  },
  {
   "cell_type": "code",
   "execution_count": 0,
   "metadata": {
    "application/vnd.databricks.v1+cell": {
     "cellMetadata": {
      "byteLimit": 2048000,
      "rowLimit": 10000
     },
     "inputWidgets": {},
     "nuid": "9eda48a2-15dd-4107-ae89-1e412b87bf64",
     "showTitle": false,
     "tableResultSettingsMap": {},
     "title": ""
    }
   },
   "outputs": [
    {
     "output_type": "stream",
     "name": "stdout",
     "output_type": "stream",
     "text": [
      "+--------------------+---------+------+\n|               table|    check|result|\n+--------------------+---------+------+\n|stg_tourist_demog...|Row Count|  1000|\n| stg_flight_bookings|Row Count|  1000|\n|     stg_hotel_stays|Row Count|  1000|\n|stg_attractions_v...|Row Count|  1000|\n+--------------------+---------+------+\n\n"
     ]
    }
   ],
   "source": [
    "from pyspark.sql import Row\n",
    "\n",
    "dq_checks = [\n",
    "    Row(table=\"stg_tourist_demographics\", check=\"Row Count\", result=row_count_tourist),\n",
    "    Row(table=\"stg_flight_bookings\", check=\"Row Count\", result=row_count_flight),\n",
    "    Row(table=\"stg_hotel_stays\", check=\"Row Count\", result=row_count_hotel),\n",
    "    Row(table=\"stg_attractions_visited\", check=\"Row Count\", result=row_count_attractions)\n",
    "]\n",
    "\n",
    "dq_df = spark.createDataFrame(dq_checks)\n",
    "dq_df.show()\n",
    "\n",
    "# Save DQ Summary\n",
    "dq_df.write.format(\"delta\").mode(\"overwrite\").saveAsTable(\"staging_dq_summary\")\n"
   ]
  },
  {
   "cell_type": "code",
   "execution_count": 0,
   "metadata": {
    "application/vnd.databricks.v1+cell": {
     "cellMetadata": {
      "byteLimit": 2048000,
      "rowLimit": 10000
     },
     "inputWidgets": {},
     "nuid": "ea0b3203-cbd8-406f-8fc7-03a541058bf6",
     "showTitle": false,
     "tableResultSettingsMap": {},
     "title": ""
    }
   },
   "outputs": [
    {
     "output_type": "stream",
     "name": "stdout",
     "output_type": "stream",
     "text": [
      "+-----------+----------+---------+------+---+--------------+-----------------+----------+----------+----------+----------+\n|customer_id|first_name|last_name|gender|age|nationality_sk|travel_purpose_sk|start_date|  end_date|is_current|tourist_sk|\n+-----------+----------+---------+------+---+--------------+-----------------+----------+----------+----------+----------+\n|          1|      John| Phillips|  Male| 55|             7|                0|2025-03-14|9999-12-31|         Y|         0|\n|          2|     David|   Sawyer|Female| 55|            74|                1|2025-03-14|9999-12-31|         Y|         1|\n|          3|      Juan|     Bell|  Male| 56|           203|                1|2025-03-14|9999-12-31|         Y|         2|\n|          4|     Paula|  Sherman|Female| 46|           216|                3|2025-03-14|9999-12-31|         Y|         3|\n|          5|   Anthony|   Briggs|Female| 27|           174|                3|2025-03-14|9999-12-31|         Y|         4|\n|          6|    Tyrone|  Roberts|  Male| 52|            68|                0|2025-03-14|9999-12-31|         Y|         5|\n|          7|      John|  Jackson|Female| 60|           163|                3|2025-03-14|9999-12-31|         Y|         6|\n|          8|  Jonathan|   Jacobs|Female| 33|           106|                0|2025-03-14|9999-12-31|         Y|         7|\n|          9|     Steve|    Lyons|Female| 61|           179|                0|2025-03-14|9999-12-31|         Y|         8|\n|         10|     Jacob|  Donovan|  Male| 40|            82|                3|2025-03-14|9999-12-31|         Y|         9|\n+-----------+----------+---------+------+---+--------------+-----------------+----------+----------+----------+----------+\n\n+----------+-----------+--------------+-------------------+-------------+---------------+--------------+------------+------------+------------+\n|booking_id|customer_id|origin_city_sk|destination_city_sk|flight_number|        airline|departure_date|arrival_date|booking_date|ticket_price|\n+----------+-----------+--------------+-------------------+-------------+---------------+--------------+------------+------------+------------+\n|         1|        500|             1|                  0|       FL6844|United Airlines|    2025-04-03|  2025-04-03|  2025-02-15|      819.79|\n|         2|        380|             0|                  1|       FL8071|       Emirates|    2024-08-06|  2024-08-06|  2024-08-06|       565.6|\n|         3|        699|             4|                  0|       FL6921|       Emirates|    2024-10-08|  2024-10-08|  2024-08-22|      513.88|\n|         4|        391|             0|                  1|       FL4809|      Lufthansa|    2025-01-22|  2025-01-22|  2025-01-08|      852.24|\n|         5|        156|             4|                  3|       FL1878|  Qatar Airways|    2024-08-04|  2024-08-04|  2024-06-11|     1453.13|\n|         6|        278|             2|                  4|       FL8064|  Qatar Airways|    2024-06-15|  2024-06-15|  2024-05-24|     1034.11|\n|         7|        968|             3|                  2|       FL3004|       Emirates|    2025-01-17|  2025-01-17|  2024-12-07|      727.48|\n|         8|        582|             5|                  6|       FL6441|  Qatar Airways|    2025-02-08|  2025-02-08|  2025-01-14|      317.86|\n|         9|        542|             3|                  6|       FL6294|      Lufthansa|    2024-05-19|  2024-05-19|  2024-04-24|      554.34|\n|        10|        462|             6|                  2|       FL9525|          Delta|    2025-01-26|  2025-01-26|  2024-12-15|      840.54|\n+----------+-----------+--------------+-------------------+-------------+---------------+--------------+------------+------------+------------+\n\n+-------+-----------+--------+-------+----------+----------+--------------+\n|stay_id|customer_id|hotel_sk|city_sk|  check_in| check_out|booking_amount|\n+-------+-----------+--------+-------+----------+----------+--------------+\n|      1|        796|       1|      0|2024-09-19|2024-09-26|        990.34|\n|      2|        876|       2|      6|2024-09-20|2024-09-26|        235.59|\n|      3|        174|       3|      4|2024-06-21|2024-06-28|        922.14|\n|      4|        433|       2|      3|2024-07-25|2024-07-31|        756.29|\n|      5|        356|       3|      6|2024-09-25|2024-10-01|         79.74|\n|      6|        298|       1|      5|2024-09-02|2024-09-09|        665.91|\n|      7|        388|       0|      4|2024-03-21|2024-03-24|        643.37|\n|      8|        732|       0|      4|2025-02-21|2025-02-28|        814.98|\n|      9|        192|       0|      6|2024-07-23|2024-07-28|        291.78|\n|     10|        959|       3|      6|2024-08-24|2024-08-25|        920.48|\n+-------+-----------+--------+-------+----------+----------+--------------+\n\n+--------+-------------+-------+----------+--------------+------------------+--------------+\n|visit_sk|attraction_sk|city_sk|visit_date|visitors_count|           revenue|average_rating|\n+--------+-------------+-------+----------+--------------+------------------+--------------+\n|       0|            0|      3|2024-11-10|            64|           4195.84|          3.35|\n|       1|            2|      6|2024-05-14|           884|           40133.6|          3.68|\n|       2|            0|      3|2025-02-17|           192|          17383.68|          4.02|\n|       3|            3|      5|2024-08-30|           257|10752.880000000001|          4.68|\n|       4|            0|      3|2025-02-20|           848|           52236.8|          3.45|\n|       5|            3|      5|2024-05-25|           399|          16315.11|          3.85|\n|       6|            2|      6|2024-09-06|           777|47319.299999999996|          4.48|\n|       7|            0|      3|2025-01-24|           971| 89535.90999999999|          4.25|\n|       8|            0|      3|2024-03-17|           100|            9276.0|          3.07|\n|       9|            2|      6|2025-01-17|           927| 75504.15000000001|          3.26|\n+--------+-------------+-------+----------+--------------+------------------+--------------+\n\n"
     ]
    }
   ],
   "source": [
    "from pyspark.sql import SparkSession\n",
    "from pyspark.sql.functions import trim, monotonically_increasing_id, col, lit, current_date\n",
    "\n",
    "# Initialize Spark Session\n",
    "spark = SparkSession.builder.appName(\"DimensionalModelSCD\").getOrCreate()\n",
    "\n",
    "# --------------------------\n",
    "# Load Raw Datasets (Staging Layer)\n",
    "# --------------------------\n",
    "tourist_df = spark.read.json(\"dbfs:/FileStore/shared_uploads/swatisoni8899@gmail.com/tourist_demographics_lines-1.json\")\n",
    "flight_bookings_df = spark.read.option(\"header\", \"true\").option(\"inferSchema\", \"true\").csv(\"/FileStore/tables/flight_bookings.csv\")\n",
    "hotel_stays_df = spark.read.option(\"header\", \"true\").option(\"inferSchema\", \"true\").csv(\"/FileStore/tables/hotel_stays.csv\")\n",
    "attractions_visited_df = spark.read.option(\"header\", \"true\").option(\"inferSchema\", \"true\").csv(\"/FileStore/tables/attractions_visited.csv\")\n",
    "\n",
    "# --------------------------\n",
    "# Dimension Tables\n",
    "# --------------------------\n",
    "\n",
    "# Dim_Nationality (Static)\n",
    "nationality_df = tourist_df.select(trim(col(\"nationality\")).alias(\"nationality\")).distinct() \\\n",
    "    .withColumn(\"nationality_sk\", monotonically_increasing_id())\n",
    "\n",
    "# Dim_Travel_Purpose (Static)\n",
    "travel_purpose_df = tourist_df.select(trim(col(\"travel_purpose\")).alias(\"travel_purpose\")).distinct() \\\n",
    "    .withColumn(\"travel_purpose_sk\", monotonically_increasing_id())\n",
    "\n",
    "# Dim_City (Static)\n",
    "cities_from_flights = flight_bookings_df.select(trim(col(\"origin_city\")).alias(\"city\")) \\\n",
    "    .union(flight_bookings_df.select(trim(col(\"destination_city\")).alias(\"city\"))).distinct()\n",
    "\n",
    "cities_from_hotels = hotel_stays_df.select(trim(col(\"city\")).alias(\"city\")).distinct()\n",
    "cities_from_attractions = attractions_visited_df.select(trim(col(\"city\")).alias(\"city\")).distinct()\n",
    "\n",
    "cities_df = cities_from_flights.union(cities_from_hotels).union(cities_from_attractions).distinct() \\\n",
    "    .withColumn(\"city_sk\", monotonically_increasing_id())\n",
    "\n",
    "# Dim_Hotel\n",
    "hotels_df = hotel_stays_df.select(trim(col(\"hotel_name\")).alias(\"hotel_name\")).distinct() \\\n",
    "    .withColumn(\"hotel_sk\", monotonically_increasing_id())\n",
    "\n",
    "# Dim_Attraction\n",
    "attractions_df = attractions_visited_df.select(trim(col(\"attraction_name\")).alias(\"attraction_name\")).distinct() \\\n",
    "    .withColumn(\"attraction_sk\", monotonically_increasing_id())\n",
    "\n",
    "# --------------------------\n",
    "# SCD2 - Dim_Tourist\n",
    "# --------------------------\n",
    "\n",
    "tourist_dim_df = tourist_df.alias(\"staging\") \\\n",
    "    .join(nationality_df.alias(\"nat\"), trim(col(\"staging.nationality\")) == col(\"nat.nationality\"), \"left\") \\\n",
    "    .join(travel_purpose_df.alias(\"tp\"), trim(col(\"staging.travel_purpose\")) == col(\"tp.travel_purpose\"), \"left\") \\\n",
    "    .select(\n",
    "        col(\"staging.customer_id\"),\n",
    "        trim(col(\"staging.first_name\")).alias(\"first_name\"),\n",
    "        trim(col(\"staging.last_name\")).alias(\"last_name\"),\n",
    "        col(\"staging.gender\"),\n",
    "        col(\"staging.age\"),\n",
    "        col(\"nat.nationality_sk\"),\n",
    "        col(\"tp.travel_purpose_sk\"),\n",
    "        lit(current_date()).alias(\"start_date\"),\n",
    "        lit(\"9999-12-31\").alias(\"end_date\"),\n",
    "        lit(\"Y\").alias(\"is_current\")\n",
    "    ).withColumn(\"tourist_sk\", monotonically_increasing_id())\n",
    "\n",
    "# --------------------------\n",
    "# Fact_Flight_Bookings\n",
    "# --------------------------\n",
    "cities_df_origin = cities_df.alias(\"origin_city\")\n",
    "cities_df_destination = cities_df.alias(\"destination_city\")\n",
    "\n",
    "fact_flight_bookings_df = flight_bookings_df.alias(\"flight\") \\\n",
    "    .join(cities_df_origin, trim(col(\"flight.origin_city\")) == trim(col(\"origin_city.city\")), \"left\") \\\n",
    "    .join(cities_df_destination, trim(col(\"flight.destination_city\")) == trim(col(\"destination_city.city\")), \"left\") \\\n",
    "    .select(\n",
    "        col(\"flight.booking_id\"),\n",
    "        col(\"flight.customer_id\"),\n",
    "        col(\"origin_city.city_sk\").alias(\"origin_city_sk\"),\n",
    "        col(\"destination_city.city_sk\").alias(\"destination_city_sk\"),\n",
    "        col(\"flight.flight_number\"),\n",
    "        col(\"flight.airline\"),\n",
    "        col(\"flight.departure_date\"),\n",
    "        col(\"flight.arrival_date\"),\n",
    "        col(\"flight.booking_date\"),\n",
    "        col(\"flight.ticket_price\")\n",
    "    )\n",
    "\n",
    "# --------------------------\n",
    "# Fact_Hotel_Stays\n",
    "# --------------------------\n",
    "hotels_df_alias = hotels_df.alias(\"hotels\")\n",
    "cities_df_alias = cities_df.alias(\"hotel_city\")\n",
    "\n",
    "fact_hotel_stays_df = hotel_stays_df.alias(\"hotel\") \\\n",
    "    .join(hotels_df_alias, trim(col(\"hotel.hotel_name\")) == trim(col(\"hotels.hotel_name\")), \"left\") \\\n",
    "    .join(cities_df_alias, trim(col(\"hotel.city\")) == trim(col(\"hotel_city.city\")), \"left\") \\\n",
    "    .select(\n",
    "        col(\"hotel.booking_id\").alias(\"stay_id\"),\n",
    "        col(\"hotel.customer_id\"),\n",
    "        col(\"hotels.hotel_sk\"),\n",
    "        col(\"hotel_city.city_sk\"),\n",
    "        col(\"hotel.check_in_date\").alias(\"check_in\"),\n",
    "        col(\"hotel.check_out_date\").alias(\"check_out\"),\n",
    "        col(\"hotel.total_amount\").alias(\"booking_amount\")\n",
    "    )\n",
    "\n",
    "# --------------------------\n",
    "# Fact_Attractions_Visits (No customer_id)\n",
    "# --------------------------\n",
    "attractions_df_alias = attractions_df.alias(\"attractions\")\n",
    "cities_df_alias_2 = cities_df.alias(\"attraction_city\")\n",
    "\n",
    "fact_attractions_visits_df = attractions_visited_df.alias(\"visit\") \\\n",
    "    .join(attractions_df_alias, trim(col(\"visit.attraction_name\")) == trim(col(\"attractions.attraction_name\")), \"left\") \\\n",
    "    .join(cities_df_alias_2, trim(col(\"visit.city\")) == trim(col(\"attraction_city.city\")), \"left\") \\\n",
    "    .withColumn(\"visit_sk\", monotonically_increasing_id()) \\\n",
    "    .select(\n",
    "        col(\"visit_sk\"),\n",
    "        col(\"attractions.attraction_sk\"),\n",
    "        col(\"attraction_city.city_sk\"),\n",
    "        col(\"visit.visit_date\"),\n",
    "        col(\"visit.visitors_count\"),\n",
    "        col(\"visit.revenue\"),\n",
    "        col(\"visit.average_rating\")\n",
    "    )\n",
    "\n",
    "# --------------------------\n",
    "# Save Dimension Tables (with SCD2 tourist)\n",
    "# --------------------------\n",
    "nationality_df.write.format(\"delta\").option(\"overwriteSchema\", \"true\").mode(\"overwrite\").saveAsTable(\"dim_nationality\")\n",
    "travel_purpose_df.write.format(\"delta\").option(\"overwriteSchema\", \"true\").mode(\"overwrite\").saveAsTable(\"dim_travel_purpose\")\n",
    "cities_df.write.format(\"delta\").option(\"overwriteSchema\", \"true\").mode(\"overwrite\").saveAsTable(\"dim_city\")\n",
    "hotels_df.write.format(\"delta\").option(\"overwriteSchema\", \"true\").mode(\"overwrite\").saveAsTable(\"dim_hotel\")\n",
    "attractions_df.write.format(\"delta\").option(\"overwriteSchema\", \"true\").mode(\"overwrite\").saveAsTable(\"dim_attraction\")\n",
    "tourist_dim_df.write.format(\"delta\").option(\"overwriteSchema\", \"true\").mode(\"overwrite\").saveAsTable(\"dim_tourist\")\n",
    "\n",
    "# --------------------------\n",
    "# Save Fact Tables\n",
    "# --------------------------\n",
    "fact_flight_bookings_df.write.format(\"delta\").option(\"overwriteSchema\", \"true\").mode(\"overwrite\").saveAsTable(\"fact_flight_bookings\")\n",
    "fact_hotel_stays_df.write.format(\"delta\").option(\"overwriteSchema\", \"true\").mode(\"overwrite\").saveAsTable(\"fact_hotel_stays\")\n",
    "fact_attractions_visits_df.write.format(\"delta\").option(\"overwriteSchema\", \"true\").mode(\"overwrite\").saveAsTable(\"fact_attractions_visits\")\n",
    "\n",
    "# --------------------------\n",
    "# Verify\n",
    "# --------------------------\n",
    "\n",
    "spark.sql(\"SELECT * FROM dim_tourist LIMIT 10\").show()\n",
    "spark.sql(\"SELECT * FROM fact_flight_bookings LIMIT 10\").show()\n",
    "spark.sql(\"SELECT * FROM fact_hotel_stays LIMIT 10\").show()\n",
    "spark.sql(\"SELECT * FROM fact_attractions_visits LIMIT 10\").show()\n"
   ]
  },
  {
   "cell_type": "markdown",
   "metadata": {
    "application/vnd.databricks.v1+cell": {
     "cellMetadata": {},
     "inputWidgets": {},
     "nuid": "4945524a-7f59-40d5-a95e-87ed21f7474a",
     "showTitle": false,
     "tableResultSettingsMap": {},
     "title": ""
    }
   },
   "source": [
    "## Analytical queries "
   ]
  },
  {
   "cell_type": "markdown",
   "metadata": {
    "application/vnd.databricks.v1+cell": {
     "cellMetadata": {},
     "inputWidgets": {},
     "nuid": "18e709ef-955d-4f17-913c-fb4992d5a086",
     "showTitle": false,
     "tableResultSettingsMap": {},
     "title": ""
    }
   },
   "source": [
    "### Query 1: Top 5 Cities by Tourist Flight Bookings and Revenue"
   ]
  },
  {
   "cell_type": "code",
   "execution_count": 0,
   "metadata": {
    "application/vnd.databricks.v1+cell": {
     "cellMetadata": {
      "byteLimit": 2048000,
      "implicitDf": true,
      "rowLimit": 10000
     },
     "inputWidgets": {},
     "nuid": "81d6420d-55d1-48fb-b8bd-db0b3499cee5",
     "showTitle": false,
     "tableResultSettingsMap": {},
     "title": ""
    }
   },
   "outputs": [
    {
     "output_type": "display_data",
     "data": {
      "text/html": [
       "<style scoped>\n",
       "  .table-result-container {\n",
       "    max-height: 300px;\n",
       "    overflow: auto;\n",
       "  }\n",
       "  table, th, td {\n",
       "    border: 1px solid black;\n",
       "    border-collapse: collapse;\n",
       "  }\n",
       "  th, td {\n",
       "    padding: 5px;\n",
       "  }\n",
       "  th {\n",
       "    text-align: left;\n",
       "  }\n",
       "</style><div class='table-result-container'><table class='table-result'><thead style='background-color: white'><tr><th>destination_city</th><th>total_bookings</th><th>total_revenue</th></tr></thead><tbody><tr><td>Toronto</td><td>160</td><td>130129.57000000005</td></tr><tr><td>Tokyo</td><td>147</td><td>123212.80000000003</td></tr><tr><td>Paris</td><td>144</td><td>106830.38</td></tr><tr><td>Dubai</td><td>144</td><td>111831.91000000003</td></tr><tr><td>Sydney</td><td>141</td><td>106664.22000000003</td></tr></tbody></table></div>"
      ]
     },
     "metadata": {
      "application/vnd.databricks.v1+output": {
       "addedWidgets": {},
       "aggData": [],
       "aggError": "",
       "aggOverflow": false,
       "aggSchema": [],
       "aggSeriesLimitReached": false,
       "aggType": "",
       "arguments": {},
       "columnCustomDisplayInfos": {},
       "data": [
        [
         "Toronto",
         160,
         130129.57000000005
        ],
        [
         "Tokyo",
         147,
         123212.80000000003
        ],
        [
         "Paris",
         144,
         106830.38
        ],
        [
         "Dubai",
         144,
         111831.91000000003
        ],
        [
         "Sydney",
         141,
         106664.22000000003
        ]
       ],
       "datasetInfos": [],
       "dbfsResultPath": null,
       "isJsonSchema": true,
       "metadata": {},
       "overflow": false,
       "plotOptions": {
        "customPlotOptions": {},
        "displayType": "table",
        "pivotAggregation": null,
        "pivotColumns": null,
        "xColumns": null,
        "yColumns": null
       },
       "removedWidgets": [],
       "schema": [
        {
         "metadata": "{}",
         "name": "destination_city",
         "type": "\"string\""
        },
        {
         "metadata": "{}",
         "name": "total_bookings",
         "type": "\"long\""
        },
        {
         "metadata": "{}",
         "name": "total_revenue",
         "type": "\"double\""
        }
       ],
       "type": "table"
      }
     },
     "output_type": "display_data"
    },
    {
     "output_type": "display_data",
     "data": {
      "text/plain": [
       "Databricks visualization. Run in Databricks to view."
      ]
     },
     "metadata": {
      "application/vnd.databricks.v1.subcommand+json": {
       "baseErrorDetails": null,
       "bindings": {},
       "collapsed": false,
       "command": "%sql WITH q AS (SELECT \n    dc.city AS destination_city,\n    COUNT(ffb.booking_id) AS total_bookings,\n    SUM(ffb.ticket_price) AS total_revenue\nFROM \n    fact_flight_bookings ffb\nJOIN \n    dim_city dc ON ffb.destination_city_sk = dc.city_sk\nWHERE \n    ffb.booking_date >= '2024-01-01'  \nGROUP BY \n    dc.city\nORDER BY \n    total_bookings DESC\nLIMIT 5) SELECT `destination_city`,SUM(`total_revenue`) `column_e9f3b79b129`,`total_revenue` FROM q GROUP BY `destination_city`,`total_revenue`",
       "commandTitle": "Visualization 1",
       "commandType": "auto",
       "commandVersion": 0,
       "commentThread": [],
       "commentsVisible": false,
       "contentSha256Hex": null,
       "customPlotOptions": {
        "redashChart": [
         {
          "key": "type",
          "value": "CHART"
         },
         {
          "key": "options",
          "value": {
           "alignYAxesAtZero": true,
           "coefficient": 1,
           "columnConfigurationMap": {
            "series": {
             "column": "total_revenue",
             "id": "column_e9f3b79b134"
            },
            "x": {
             "column": "destination_city",
             "id": "column_e9f3b79b136"
            },
            "y": [
             {
              "column": "total_revenue",
              "id": "column_e9f3b79b129",
              "transform": "SUM"
             }
            ]
           },
           "dateTimeFormat": "DD/MM/YYYY HH:mm",
           "direction": {
            "type": "counterclockwise"
           },
           "error_y": {
            "type": "data",
            "visible": true
           },
           "globalSeriesType": "column",
           "isAggregationOn": true,
           "legend": {
            "traceorder": "normal"
           },
           "missingValuesAsZero": true,
           "numberFormat": "0,0.[00000]",
           "percentFormat": "0[.]00%",
           "series": {
            "error_y": {
             "type": "data",
             "visible": true
            },
            "stacking": null
           },
           "seriesOptions": {
            "column_e9f3b79b129": {
             "name": "total_revenue",
             "type": "column",
             "yAxis": 0
            }
           },
           "showDataLabels": false,
           "sizemode": "diameter",
           "sortX": true,
           "sortY": true,
           "swappedAxes": false,
           "textFormat": "",
           "useAggregationsUi": true,
           "valuesOptions": {},
           "version": 2,
           "xAxis": {
            "labels": {
             "enabled": true
            },
            "type": "-"
           },
           "yAxis": [
            {
             "type": "-"
            },
            {
             "opposite": true,
             "type": "-"
            }
           ]
          }
         }
        ]
       },
       "datasetPreviewNameToCmdIdMap": {},
       "diffDeletes": [],
       "diffInserts": [],
       "displayType": "redashChart",
       "error": null,
       "errorDetails": null,
       "errorSummary": null,
       "errorTraceType": null,
       "finishTime": 0,
       "globalVars": {},
       "guid": "",
       "height": "auto",
       "hideCommandCode": false,
       "hideCommandResult": false,
       "iPythonMetadata": null,
       "inputWidgets": {},
       "isLockedInExamMode": false,
       "latestUser": "a user",
       "latestUserId": null,
       "listResultMetadata": null,
       "metadata": {},
       "nuid": "36ed5912-43d9-4bd9-a637-561257b88664",
       "origId": 0,
       "parentHierarchy": [],
       "pivotAggregation": null,
       "pivotColumns": null,
       "position": 14.5,
       "resultDbfsErrorMessage": null,
       "resultDbfsStatus": "INLINED_IN_TREE",
       "results": null,
       "showCommandTitle": false,
       "startTime": 0,
       "state": "input",
       "streamStates": {},
       "subcommandOptions": {
        "queryPlan": {
         "groups": [
          {
           "column": "destination_city",
           "type": "column"
          },
          {
           "column": "total_revenue",
           "type": "column"
          }
         ],
         "selects": [
          {
           "column": "destination_city",
           "type": "column"
          },
          {
           "alias": "column_e9f3b79b129",
           "args": [
            {
             "column": "total_revenue",
             "type": "column"
            }
           ],
           "function": "SUM",
           "type": "function"
          },
          {
           "column": "total_revenue",
           "type": "column"
          }
         ]
        }
       },
       "submitTime": 0,
       "subtype": "tableResultSubCmd.visualization",
       "tableResultIndex": 0,
       "tableResultSettingsMap": {},
       "useConsistentColors": false,
       "version": "CommandV1",
       "width": "auto",
       "workflows": [],
       "xColumns": null,
       "yColumns": null
      }
     },
     "output_type": "display_data"
    }
   ],
   "source": [
    "%sql\n",
    "SELECT \n",
    "    dc.city AS destination_city,\n",
    "    COUNT(ffb.booking_id) AS total_bookings,\n",
    "    SUM(ffb.ticket_price) AS total_revenue\n",
    "FROM \n",
    "    fact_flight_bookings ffb\n",
    "JOIN \n",
    "    dim_city dc ON ffb.destination_city_sk = dc.city_sk\n",
    "WHERE \n",
    "    ffb.booking_date >= '2024-01-01'  -- Filter: Recent bookings (adjust as needed)\n",
    "GROUP BY \n",
    "    dc.city\n",
    "ORDER BY \n",
    "    total_bookings DESC\n",
    "LIMIT 5;\n"
   ]
  },
  {
   "cell_type": "markdown",
   "metadata": {
    "application/vnd.databricks.v1+cell": {
     "cellMetadata": {},
     "inputWidgets": {},
     "nuid": "a6bc0d00-c8b0-4c2b-a0cc-c014c4ba8909",
     "showTitle": false,
     "tableResultSettingsMap": {},
     "title": ""
    }
   },
   "source": [
    "### Query 2: Average Stay Duration and Spending by Nationality"
   ]
  },
  {
   "cell_type": "code",
   "execution_count": 0,
   "metadata": {
    "application/vnd.databricks.v1+cell": {
     "cellMetadata": {
      "byteLimit": 2048000,
      "implicitDf": true,
      "rowLimit": 10000
     },
     "inputWidgets": {},
     "nuid": "b5a94a24-4875-449f-999c-d0e4c31fc6c1",
     "showTitle": false,
     "tableResultSettingsMap": {},
     "title": ""
    }
   },
   "outputs": [
    {
     "output_type": "display_data",
     "data": {
      "text/html": [
       "<style scoped>\n",
       "  .table-result-container {\n",
       "    max-height: 300px;\n",
       "    overflow: auto;\n",
       "  }\n",
       "  table, th, td {\n",
       "    border: 1px solid black;\n",
       "    border-collapse: collapse;\n",
       "  }\n",
       "  th, td {\n",
       "    padding: 5px;\n",
       "  }\n",
       "  th {\n",
       "    text-align: left;\n",
       "  }\n",
       "</style><div class='table-result-container'><table class='table-result'><thead style='background-color: white'><tr><th>nationality</th><th>total_stays</th><th>avg_stay_duration_days</th><th>total_spent</th></tr></thead><tbody><tr><td>Palau</td><td>18</td><td>5.83</td><td>7744.9</td></tr><tr><td>Mauritania</td><td>11</td><td>5.09</td><td>7281.38</td></tr><tr><td>Bouvet Island (Bouvetoya)</td><td>14</td><td>6.14</td><td>7132.75</td></tr><tr><td>Turkey</td><td>12</td><td>5.58</td><td>6641.65</td></tr><tr><td>Mayotte</td><td>9</td><td>5.22</td><td>6398.43</td></tr><tr><td>Serbia</td><td>12</td><td>5.75</td><td>6258.3</td></tr><tr><td>Djibouti</td><td>9</td><td>5.22</td><td>6182.44</td></tr><tr><td>Bangladesh</td><td>12</td><td>4.92</td><td>6173.21</td></tr><tr><td>French Southern Territories</td><td>12</td><td>5.25</td><td>6169.14</td></tr><tr><td>Sudan</td><td>10</td><td>6.3</td><td>5558.53</td></tr><tr><td>Cambodia</td><td>8</td><td>6.13</td><td>5259.74</td></tr><tr><td>Eritrea</td><td>7</td><td>5.43</td><td>5013.89</td></tr><tr><td>Norfolk Island</td><td>8</td><td>3.25</td><td>4855.53</td></tr><tr><td>Benin</td><td>7</td><td>6.71</td><td>4840.99</td></tr><tr><td>Ireland</td><td>9</td><td>4.89</td><td>4826.83</td></tr><tr><td>Morocco</td><td>9</td><td>5.0</td><td>4826.02</td></tr><tr><td>Guadeloupe</td><td>9</td><td>4.22</td><td>4823.22</td></tr><tr><td>Belgium</td><td>9</td><td>5.0</td><td>4822.6</td></tr><tr><td>Albania</td><td>7</td><td>4.86</td><td>4667.16</td></tr><tr><td>Micronesia</td><td>9</td><td>5.33</td><td>4568.24</td></tr></tbody></table></div>"
      ]
     },
     "metadata": {
      "application/vnd.databricks.v1+output": {
       "addedWidgets": {},
       "aggData": [],
       "aggError": "",
       "aggOverflow": false,
       "aggSchema": [],
       "aggSeriesLimitReached": false,
       "aggType": "",
       "arguments": {},
       "columnCustomDisplayInfos": {},
       "data": [
        [
         "Palau",
         18,
         5.83,
         7744.9
        ],
        [
         "Mauritania",
         11,
         5.09,
         7281.38
        ],
        [
         "Bouvet Island (Bouvetoya)",
         14,
         6.14,
         7132.75
        ],
        [
         "Turkey",
         12,
         5.58,
         6641.65
        ],
        [
         "Mayotte",
         9,
         5.22,
         6398.43
        ],
        [
         "Serbia",
         12,
         5.75,
         6258.3
        ],
        [
         "Djibouti",
         9,
         5.22,
         6182.44
        ],
        [
         "Bangladesh",
         12,
         4.92,
         6173.21
        ],
        [
         "French Southern Territories",
         12,
         5.25,
         6169.14
        ],
        [
         "Sudan",
         10,
         6.3,
         5558.53
        ],
        [
         "Cambodia",
         8,
         6.13,
         5259.74
        ],
        [
         "Eritrea",
         7,
         5.43,
         5013.89
        ],
        [
         "Norfolk Island",
         8,
         3.25,
         4855.53
        ],
        [
         "Benin",
         7,
         6.71,
         4840.99
        ],
        [
         "Ireland",
         9,
         4.89,
         4826.83
        ],
        [
         "Morocco",
         9,
         5.0,
         4826.02
        ],
        [
         "Guadeloupe",
         9,
         4.22,
         4823.22
        ],
        [
         "Belgium",
         9,
         5.0,
         4822.6
        ],
        [
         "Albania",
         7,
         4.86,
         4667.16
        ],
        [
         "Micronesia",
         9,
         5.33,
         4568.24
        ]
       ],
       "datasetInfos": [],
       "dbfsResultPath": null,
       "isJsonSchema": true,
       "metadata": {},
       "overflow": false,
       "plotOptions": {
        "customPlotOptions": {},
        "displayType": "table",
        "pivotAggregation": null,
        "pivotColumns": null,
        "xColumns": null,
        "yColumns": null
       },
       "removedWidgets": [],
       "schema": [
        {
         "metadata": "{}",
         "name": "nationality",
         "type": "\"string\""
        },
        {
         "metadata": "{}",
         "name": "total_stays",
         "type": "\"long\""
        },
        {
         "metadata": "{}",
         "name": "avg_stay_duration_days",
         "type": "\"double\""
        },
        {
         "metadata": "{}",
         "name": "total_spent",
         "type": "\"double\""
        }
       ],
       "type": "table"
      }
     },
     "output_type": "display_data"
    },
    {
     "output_type": "display_data",
     "data": {
      "text/plain": [
       "Databricks visualization. Run in Databricks to view."
      ]
     },
     "metadata": {
      "application/vnd.databricks.v1.subcommand+json": {
       "baseErrorDetails": null,
       "bindings": {},
       "collapsed": false,
       "command": "%sql WITH q AS (SELECT \n    dn.nationality,\n    COUNT(fhs.stay_id) AS total_stays,\n    ROUND(AVG(DATEDIFF(fhs.check_out, fhs.check_in)), 2) AS avg_stay_duration_days,\n    ROUND(SUM(fhs.booking_amount), 2) AS total_spent\nFROM \n    fact_hotel_stays fhs\nJOIN \n    dim_tourist dt \n    ON fhs.customer_id = dt.customer_id\nJOIN \n    dim_nationality dn \n    ON dt.nationality_sk = dn.nationality_sk\nWHERE \n    dt.is_current = 'Y'  \nGROUP BY \n    dn.nationality\nORDER BY \n    total_spent DESC) SELECT `avg_stay_duration_days`,`nationality` FROM q GROUP BY `avg_stay_duration_days`,`nationality`",
       "commandTitle": "Visualization 1",
       "commandType": "auto",
       "commandVersion": 0,
       "commentThread": [],
       "commentsVisible": false,
       "contentSha256Hex": null,
       "customPlotOptions": {
        "redashChart": [
         {
          "key": "type",
          "value": "CHART"
         },
         {
          "key": "options",
          "value": {
           "alignYAxesAtZero": true,
           "coefficient": 1,
           "columnConfigurationMap": {
            "series": {
             "column": "total_spent",
             "id": "column_e9f3b79b165"
            },
            "x": {
             "column": "nationality",
             "id": "column_e9f3b79b149"
            },
            "y": [
             {
              "column": "avg_stay_duration_days",
              "id": "column_e9f3b79b152",
              "transform": "SUM"
             }
            ]
           },
           "dateTimeFormat": "DD/MM/YYYY HH:mm",
           "direction": {
            "type": "counterclockwise"
           },
           "error_y": {
            "type": "data",
            "visible": true
           },
           "globalSeriesType": "area",
           "isAggregationOn": true,
           "legend": {
            "enabled": true,
            "placement": "auto",
            "traceorder": "normal"
           },
           "missingValuesAsZero": true,
           "numberFormat": "0,0.[00000]",
           "percentFormat": "0[.]00%",
           "series": {
            "error_y": {
             "type": "data",
             "visible": true
            },
            "stacking": null
           },
           "seriesOptions": {
            "column_e9f3b79b152": {
             "type": "area",
             "yAxis": 0
            }
           },
           "showDataLabels": false,
           "sizemode": "diameter",
           "sortX": true,
           "sortY": true,
           "swappedAxes": false,
           "textFormat": "",
           "useAggregationsUi": true,
           "valuesOptions": {},
           "version": 2,
           "xAxis": {
            "labels": {
             "enabled": true
            },
            "type": "-"
           },
           "yAxis": [
            {
             "type": "-"
            },
            {
             "opposite": true,
             "type": "-"
            }
           ]
          }
         }
        ]
       },
       "datasetPreviewNameToCmdIdMap": {},
       "diffDeletes": [],
       "diffInserts": [],
       "displayType": "redashChart",
       "error": null,
       "errorDetails": null,
       "errorSummary": null,
       "errorTraceType": null,
       "finishTime": 0,
       "globalVars": {},
       "guid": "",
       "height": "auto",
       "hideCommandCode": false,
       "hideCommandResult": false,
       "iPythonMetadata": null,
       "inputWidgets": {},
       "isLockedInExamMode": false,
       "latestUser": "a user",
       "latestUserId": null,
       "listResultMetadata": null,
       "metadata": {},
       "nuid": "a937aba2-558e-42c9-aea6-494ecdc01242",
       "origId": 0,
       "parentHierarchy": [],
       "pivotAggregation": null,
       "pivotColumns": null,
       "position": 16.5,
       "resultDbfsErrorMessage": null,
       "resultDbfsStatus": "INLINED_IN_TREE",
       "results": null,
       "showCommandTitle": false,
       "startTime": 0,
       "state": "input",
       "streamStates": {},
       "subcommandOptions": {
        "queryPlan": {
         "groups": [
          {
           "column": "nationality",
           "type": "column"
          },
          {
           "column": "total_spent",
           "type": "column"
          }
         ],
         "selects": [
          {
           "column": "nationality",
           "type": "column"
          },
          {
           "alias": "column_e9f3b79b152",
           "args": [
            {
             "column": "avg_stay_duration_days",
             "type": "column"
            }
           ],
           "function": "SUM",
           "type": "function"
          },
          {
           "column": "total_spent",
           "type": "column"
          }
         ]
        }
       },
       "submitTime": 0,
       "subtype": "tableResultSubCmd.visualization",
       "tableResultIndex": 0,
       "tableResultSettingsMap": {},
       "useConsistentColors": false,
       "version": "CommandV1",
       "width": "auto",
       "workflows": [],
       "xColumns": null,
       "yColumns": null
      }
     },
     "output_type": "display_data"
    }
   ],
   "source": [
    "%sql\n",
    "SELECT \n",
    "    dn.nationality,\n",
    "    COUNT(fhs.stay_id) AS total_stays,\n",
    "    ROUND(AVG(DATEDIFF(fhs.check_out, fhs.check_in)), 2) AS avg_stay_duration_days,\n",
    "    ROUND(SUM(fhs.booking_amount), 2) AS total_spent\n",
    "FROM \n",
    "    fact_hotel_stays fhs\n",
    "JOIN \n",
    "    dim_tourist dt \n",
    "    ON fhs.customer_id = dt.customer_id\n",
    "JOIN \n",
    "    dim_nationality dn \n",
    "    ON dt.nationality_sk = dn.nationality_sk\n",
    "WHERE \n",
    "    dt.is_current = 'Y'  -- SCD2: Only current records\n",
    "GROUP BY \n",
    "    dn.nationality\n",
    "ORDER BY \n",
    "    total_spent DESC\n",
    "LIMIT 20;\n"
   ]
  },
  {
   "cell_type": "markdown",
   "metadata": {
    "application/vnd.databricks.v1+cell": {
     "cellMetadata": {},
     "inputWidgets": {},
     "nuid": "f88f8ed3-6e4e-4811-8a7a-5bc554f48d57",
     "showTitle": false,
     "tableResultSettingsMap": {},
     "title": ""
    }
   },
   "source": [
    "### Query 3 (Complex): High-Value Tourists and Their Multi-Activity Engagement"
   ]
  },
  {
   "cell_type": "code",
   "execution_count": 0,
   "metadata": {
    "application/vnd.databricks.v1+cell": {
     "cellMetadata": {
      "byteLimit": 2048000,
      "implicitDf": true,
      "rowLimit": 10000
     },
     "inputWidgets": {},
     "nuid": "c1dc4d95-8ff8-48ba-9dd9-9baf6e67f8be",
     "showTitle": false,
     "tableResultSettingsMap": {},
     "title": ""
    }
   },
   "outputs": [
    {
     "output_type": "display_data",
     "data": {
      "text/html": [
       "<style scoped>\n",
       "  .table-result-container {\n",
       "    max-height: 300px;\n",
       "    overflow: auto;\n",
       "  }\n",
       "  table, th, td {\n",
       "    border: 1px solid black;\n",
       "    border-collapse: collapse;\n",
       "  }\n",
       "  th, td {\n",
       "    padding: 5px;\n",
       "  }\n",
       "  th {\n",
       "    text-align: left;\n",
       "  }\n",
       "</style><div class='table-result-container'><table class='table-result'><thead style='background-color: white'><tr><th>tourist_sk</th><th>first_name</th><th>last_name</th><th>flight_spending</th><th>hotel_spending</th><th>attraction_spending</th><th>total_spending</th></tr></thead><tbody><tr><td>441</td><td>Sarah</td><td>Reyes</td><td>1.142556E7</td><td>6630520.0</td><td>4.7018779408E8</td><td>4.8824387408E8</td></tr><tr><td>182</td><td>Anne</td><td>Cross</td><td>8588820.0</td><td>4721000.0</td><td>3.5264084556E8</td><td>3.6595066556E8</td></tr><tr><td>434</td><td>Christopher</td><td>Cruz</td><td>1.046464E7</td><td>2986850.0</td><td>2.938673713E8</td><td>3.073188613E8</td></tr><tr><td>817</td><td>Daniel</td><td>Nixon</td><td>9750480.0</td><td>2564950.0</td><td>2.938673713E8</td><td>3.061828013E8</td></tr><tr><td>556</td><td>Whitney</td><td>Cantu</td><td>7197240.0</td><td>4312080.0</td><td>2.6448063417E8</td><td>2.7598995417E8</td></tr><tr><td>832</td><td>Deborah</td><td>Rosario</td><td>5271780.0</td><td>5697570.0</td><td>2.6448063417E8</td><td>2.7544998417E8</td></tr><tr><td>115</td><td>Cory</td><td>Richardson</td><td>4965270.0</td><td>4466760.0</td><td>2.6448063417E8</td><td>2.7391266417E8</td></tr><tr><td>937</td><td>Amy</td><td>Mckee</td><td>6216330.0</td><td>2631780.0</td><td>2.6448063417E8</td><td>2.7332874417E8</td></tr><tr><td>755</td><td>Rodney</td><td>Hale</td><td>1.081916E7</td><td>4884720.0</td><td>2.3509389704E8</td><td>2.5079777704E8</td></tr><tr><td>277</td><td>David</td><td>Huff</td><td>9345520.0</td><td>6044440.0</td><td>2.3509389704E8</td><td>2.5048385704E8</td></tr></tbody></table></div>"
      ]
     },
     "metadata": {
      "application/vnd.databricks.v1+output": {
       "addedWidgets": {},
       "aggData": [],
       "aggError": "",
       "aggOverflow": false,
       "aggSchema": [],
       "aggSeriesLimitReached": false,
       "aggType": "",
       "arguments": {},
       "columnCustomDisplayInfos": {},
       "data": [
        [
         441,
         "Sarah",
         "Reyes",
         1.142556E7,
         6630520.0,
         4.7018779408E8,
         4.8824387408E8
        ],
        [
         182,
         "Anne",
         "Cross",
         8588820.0,
         4721000.0,
         3.5264084556E8,
         3.6595066556E8
        ],
        [
         434,
         "Christopher",
         "Cruz",
         1.046464E7,
         2986850.0,
         2.938673713E8,
         3.073188613E8
        ],
        [
         817,
         "Daniel",
         "Nixon",
         9750480.0,
         2564950.0,
         2.938673713E8,
         3.061828013E8
        ],
        [
         556,
         "Whitney",
         "Cantu",
         7197240.0,
         4312080.0,
         2.6448063417E8,
         2.7598995417E8
        ],
        [
         832,
         "Deborah",
         "Rosario",
         5271780.0,
         5697570.0,
         2.6448063417E8,
         2.7544998417E8
        ],
        [
         115,
         "Cory",
         "Richardson",
         4965270.0,
         4466760.0,
         2.6448063417E8,
         2.7391266417E8
        ],
        [
         937,
         "Amy",
         "Mckee",
         6216330.0,
         2631780.0,
         2.6448063417E8,
         2.7332874417E8
        ],
        [
         755,
         "Rodney",
         "Hale",
         1.081916E7,
         4884720.0,
         2.3509389704E8,
         2.5079777704E8
        ],
        [
         277,
         "David",
         "Huff",
         9345520.0,
         6044440.0,
         2.3509389704E8,
         2.5048385704E8
        ]
       ],
       "datasetInfos": [],
       "dbfsResultPath": null,
       "isJsonSchema": true,
       "metadata": {},
       "overflow": false,
       "plotOptions": {
        "customPlotOptions": {},
        "displayType": "table",
        "pivotAggregation": null,
        "pivotColumns": null,
        "xColumns": null,
        "yColumns": null
       },
       "removedWidgets": [],
       "schema": [
        {
         "metadata": "{}",
         "name": "tourist_sk",
         "type": "\"long\""
        },
        {
         "metadata": "{}",
         "name": "first_name",
         "type": "\"string\""
        },
        {
         "metadata": "{}",
         "name": "last_name",
         "type": "\"string\""
        },
        {
         "metadata": "{}",
         "name": "flight_spending",
         "type": "\"double\""
        },
        {
         "metadata": "{}",
         "name": "hotel_spending",
         "type": "\"double\""
        },
        {
         "metadata": "{}",
         "name": "attraction_spending",
         "type": "\"double\""
        },
        {
         "metadata": "{}",
         "name": "total_spending",
         "type": "\"double\""
        }
       ],
       "type": "table"
      }
     },
     "output_type": "display_data"
    },
    {
     "output_type": "display_data",
     "data": {
      "text/plain": [
       "Databricks visualization. Run in Databricks to view."
      ]
     },
     "metadata": {
      "application/vnd.databricks.v1.subcommand+json": {
       "baseErrorDetails": null,
       "bindings": {},
       "collapsed": false,
       "command": "%sql WITH q AS (WITH tourist_spending AS (\n    SELECT \n        dt.tourist_sk,\n        dt.first_name,\n        dt.last_name,\n        SUM(ffb.ticket_price) AS flight_spending,\n        SUM(fhs.booking_amount) AS hotel_spending,\n        SUM(fav.revenue) AS attraction_spending,\n        (SUM(ffb.ticket_price) + SUM(fhs.booking_amount) + SUM(fav.revenue)) AS total_spending\n    FROM \n        dim_tourist dt\n    LEFT JOIN \n        fact_flight_bookings ffb ON dt.customer_id = ffb.customer_id\n    LEFT JOIN \n        fact_hotel_stays fhs ON dt.customer_id = fhs.customer_id\n    LEFT JOIN \n        fact_attractions_visits fav ON fav.attraction_sk IS NOT NULL  \n    WHERE \n        dt.is_current = 'Y'\n    GROUP BY \n        dt.tourist_sk, dt.first_name, dt.last_name\n)\nSELECT \n    tourist_sk,\n    first_name,\n    last_name,\n    ROUND(flight_spending, 2) AS flight_spending,\n    ROUND(hotel_spending, 2) AS hotel_spending,\n    ROUND(attraction_spending, 2) AS attraction_spending,\n    ROUND(total_spending, 2) AS total_spending\nFROM \n    tourist_spending\nWHERE \n    total_spending > 10000  \nORDER BY \n    total_spending DESC\nLIMIT 10) SELECT `tourist_sk`,SUM(`total_spending`) `column_e9f3b79b168` FROM q GROUP BY `tourist_sk`",
       "commandTitle": "Visualization 1",
       "commandType": "auto",
       "commandVersion": 0,
       "commentThread": [],
       "commentsVisible": false,
       "contentSha256Hex": null,
       "customPlotOptions": {
        "redashChart": [
         {
          "key": "type",
          "value": "CHART"
         },
         {
          "key": "options",
          "value": {
           "alignYAxesAtZero": true,
           "coefficient": 1,
           "columnConfigurationMap": {
            "x": {
             "column": "tourist_sk",
             "id": "column_e9f3b79b166"
            },
            "y": [
             {
              "column": "total_spending",
              "id": "column_e9f3b79b168",
              "transform": "SUM"
             }
            ]
           },
           "dateTimeFormat": "DD/MM/YYYY HH:mm",
           "direction": {
            "type": "counterclockwise"
           },
           "error_y": {
            "type": "data",
            "visible": true
           },
           "globalSeriesType": "pie",
           "isAggregationOn": true,
           "legend": {
            "traceorder": "normal"
           },
           "missingValuesAsZero": true,
           "numberFormat": "0,0.[00000]",
           "percentFormat": "0[.]00%",
           "series": {
            "error_y": {
             "type": "data",
             "visible": true
            },
            "stacking": null
           },
           "seriesOptions": {
            "column_e9f3b79b168": {
             "type": "pie",
             "yAxis": 0
            },
            "total_spending": {
             "type": "pie",
             "yAxis": 0
            }
           },
           "showDataLabels": true,
           "sizemode": "diameter",
           "sortX": true,
           "sortY": true,
           "swappedAxes": false,
           "textFormat": "",
           "useAggregationsUi": true,
           "valuesOptions": {},
           "version": 2,
           "xAxis": {
            "labels": {
             "enabled": true
            },
            "type": "-"
           },
           "yAxis": [
            {
             "type": "-"
            },
            {
             "opposite": true,
             "type": "-"
            }
           ]
          }
         }
        ]
       },
       "datasetPreviewNameToCmdIdMap": {},
       "diffDeletes": [],
       "diffInserts": [],
       "displayType": "redashChart",
       "error": null,
       "errorDetails": null,
       "errorSummary": null,
       "errorTraceType": null,
       "finishTime": 0,
       "globalVars": {},
       "guid": "",
       "height": "auto",
       "hideCommandCode": false,
       "hideCommandResult": false,
       "iPythonMetadata": null,
       "inputWidgets": {},
       "isLockedInExamMode": false,
       "latestUser": "a user",
       "latestUserId": null,
       "listResultMetadata": null,
       "metadata": {},
       "nuid": "c4b0a16d-39d7-454e-bab8-b1b98f5eaa20",
       "origId": 0,
       "parentHierarchy": [],
       "pivotAggregation": null,
       "pivotColumns": null,
       "position": 17.5,
       "resultDbfsErrorMessage": null,
       "resultDbfsStatus": "INLINED_IN_TREE",
       "results": null,
       "showCommandTitle": false,
       "startTime": 0,
       "state": "input",
       "streamStates": {},
       "subcommandOptions": {
        "queryPlan": {
         "groups": [
          {
           "column": "tourist_sk",
           "type": "column"
          }
         ],
         "selects": [
          {
           "column": "tourist_sk",
           "type": "column"
          },
          {
           "alias": "column_e9f3b79b168",
           "args": [
            {
             "column": "total_spending",
             "type": "column"
            }
           ],
           "function": "SUM",
           "type": "function"
          }
         ]
        }
       },
       "submitTime": 0,
       "subtype": "tableResultSubCmd.visualization",
       "tableResultIndex": 0,
       "tableResultSettingsMap": {},
       "useConsistentColors": false,
       "version": "CommandV1",
       "width": "auto",
       "workflows": [],
       "xColumns": null,
       "yColumns": null
      }
     },
     "output_type": "display_data"
    }
   ],
   "source": [
    "%sql\n",
    "WITH tourist_spending AS (\n",
    "    SELECT \n",
    "        dt.tourist_sk,\n",
    "        dt.first_name,\n",
    "        dt.last_name,\n",
    "        SUM(ffb.ticket_price) AS flight_spending,\n",
    "        SUM(fhs.booking_amount) AS hotel_spending,\n",
    "        SUM(fav.revenue) AS attraction_spending,\n",
    "        (SUM(ffb.ticket_price) + SUM(fhs.booking_amount) + SUM(fav.revenue)) AS total_spending\n",
    "    FROM \n",
    "        dim_tourist dt\n",
    "    LEFT JOIN \n",
    "        fact_flight_bookings ffb ON dt.customer_id = ffb.customer_id\n",
    "    LEFT JOIN \n",
    "        fact_hotel_stays fhs ON dt.customer_id = fhs.customer_id\n",
    "    LEFT JOIN \n",
    "        fact_attractions_visits fav ON fav.attraction_sk IS NOT NULL  -- Cross-service inclusion\n",
    "    WHERE \n",
    "        dt.is_current = 'Y'\n",
    "    GROUP BY \n",
    "        dt.tourist_sk, dt.first_name, dt.last_name\n",
    ")\n",
    "SELECT \n",
    "    tourist_sk,\n",
    "    first_name,\n",
    "    last_name,\n",
    "    ROUND(flight_spending, 2) AS flight_spending,\n",
    "    ROUND(hotel_spending, 2) AS hotel_spending,\n",
    "    ROUND(attraction_spending, 2) AS attraction_spending,\n",
    "    ROUND(total_spending, 2) AS total_spending\n",
    "FROM \n",
    "    tourist_spending\n",
    "WHERE \n",
    "    total_spending > 10000  -- High-value threshold\n",
    "ORDER BY \n",
    "    total_spending DESC\n",
    "LIMIT 10;\n"
   ]
  },
  {
   "cell_type": "markdown",
   "metadata": {
    "application/vnd.databricks.v1+cell": {
     "cellMetadata": {},
     "inputWidgets": {},
     "nuid": "ff162a9d-95c7-4f04-bcc7-e886a61ffb6b",
     "showTitle": false,
     "tableResultSettingsMap": {},
     "title": ""
    }
   },
   "source": [
    "### Monthly Flight Revenue and Top Airlines"
   ]
  },
  {
   "cell_type": "code",
   "execution_count": 0,
   "metadata": {
    "application/vnd.databricks.v1+cell": {
     "cellMetadata": {
      "byteLimit": 2048000,
      "implicitDf": true,
      "rowLimit": 10000
     },
     "inputWidgets": {},
     "nuid": "d7f5820f-320d-47d2-a2ab-b428dcf82c70",
     "showTitle": false,
     "tableResultSettingsMap": {},
     "title": ""
    }
   },
   "outputs": [
    {
     "output_type": "display_data",
     "data": {
      "text/html": [
       "<style scoped>\n",
       "  .table-result-container {\n",
       "    max-height: 300px;\n",
       "    overflow: auto;\n",
       "  }\n",
       "  table, th, td {\n",
       "    border: 1px solid black;\n",
       "    border-collapse: collapse;\n",
       "  }\n",
       "  th, td {\n",
       "    padding: 5px;\n",
       "  }\n",
       "  th {\n",
       "    text-align: left;\n",
       "  }\n",
       "</style><div class='table-result-container'><table class='table-result'><thead style='background-color: white'><tr><th>booking_month</th><th>airline</th><th>total_bookings</th><th>total_revenue</th></tr></thead><tbody><tr><td>2024-03</td><td>Delta</td><td>18</td><td>13807.1</td></tr><tr><td>2024-03</td><td>Emirates</td><td>13</td><td>12804.91</td></tr><tr><td>2024-03</td><td>Lufthansa</td><td>12</td><td>11280.24</td></tr><tr><td>2024-03</td><td>United Airlines</td><td>11</td><td>7987.95</td></tr><tr><td>2024-03</td><td>Qatar Airways</td><td>8</td><td>6164.99</td></tr><tr><td>2024-04</td><td>United Airlines</td><td>18</td><td>17090.78</td></tr><tr><td>2024-04</td><td>Delta</td><td>20</td><td>15758.51</td></tr><tr><td>2024-04</td><td>Qatar Airways</td><td>18</td><td>14385.42</td></tr><tr><td>2024-04</td><td>Lufthansa</td><td>16</td><td>11823.63</td></tr><tr><td>2024-04</td><td>Emirates</td><td>14</td><td>10220.32</td></tr><tr><td>2024-05</td><td>Qatar Airways</td><td>25</td><td>19495.16</td></tr><tr><td>2024-05</td><td>United Airlines</td><td>19</td><td>17589.25</td></tr><tr><td>2024-05</td><td>Lufthansa</td><td>11</td><td>9232.47</td></tr><tr><td>2024-05</td><td>Emirates</td><td>11</td><td>9155.82</td></tr><tr><td>2024-05</td><td>Delta</td><td>12</td><td>8921.98</td></tr><tr><td>2024-06</td><td>Lufthansa</td><td>24</td><td>19544.98</td></tr><tr><td>2024-06</td><td>Emirates</td><td>23</td><td>17812.9</td></tr><tr><td>2024-06</td><td>Qatar Airways</td><td>18</td><td>13634.06</td></tr><tr><td>2024-06</td><td>Delta</td><td>12</td><td>7379.81</td></tr><tr><td>2024-06</td><td>United Airlines</td><td>10</td><td>6214.84</td></tr><tr><td>2024-07</td><td>Qatar Airways</td><td>19</td><td>15099.72</td></tr><tr><td>2024-07</td><td>Delta</td><td>18</td><td>14534.63</td></tr><tr><td>2024-07</td><td>Emirates</td><td>17</td><td>12958.66</td></tr><tr><td>2024-07</td><td>Lufthansa</td><td>12</td><td>10729.13</td></tr><tr><td>2024-07</td><td>United Airlines</td><td>11</td><td>10335.31</td></tr><tr><td>2024-08</td><td>United Airlines</td><td>25</td><td>18185.15</td></tr><tr><td>2024-08</td><td>Qatar Airways</td><td>18</td><td>15960.0</td></tr><tr><td>2024-08</td><td>Emirates</td><td>18</td><td>14346.13</td></tr><tr><td>2024-08</td><td>Lufthansa</td><td>14</td><td>11991.48</td></tr><tr><td>2024-08</td><td>Delta</td><td>13</td><td>9952.9</td></tr><tr><td>2024-09</td><td>Qatar Airways</td><td>19</td><td>18581.76</td></tr><tr><td>2024-09</td><td>Lufthansa</td><td>17</td><td>14738.64</td></tr><tr><td>2024-09</td><td>United Airlines</td><td>18</td><td>14032.51</td></tr><tr><td>2024-09</td><td>Delta</td><td>16</td><td>8575.88</td></tr><tr><td>2024-09</td><td>Emirates</td><td>14</td><td>7898.49</td></tr><tr><td>2024-10</td><td>Emirates</td><td>23</td><td>20529.18</td></tr><tr><td>2024-10</td><td>United Airlines</td><td>17</td><td>13543.12</td></tr><tr><td>2024-10</td><td>Qatar Airways</td><td>14</td><td>12234.18</td></tr><tr><td>2024-10</td><td>Lufthansa</td><td>13</td><td>12144.82</td></tr><tr><td>2024-10</td><td>Delta</td><td>18</td><td>11876.38</td></tr><tr><td>2024-11</td><td>Emirates</td><td>21</td><td>15660.16</td></tr><tr><td>2024-11</td><td>Qatar Airways</td><td>18</td><td>13976.57</td></tr><tr><td>2024-11</td><td>Lufthansa</td><td>16</td><td>13123.61</td></tr><tr><td>2024-11</td><td>Delta</td><td>17</td><td>12494.26</td></tr><tr><td>2024-11</td><td>United Airlines</td><td>17</td><td>11248.88</td></tr><tr><td>2024-12</td><td>Lufthansa</td><td>17</td><td>14703.33</td></tr><tr><td>2024-12</td><td>Delta</td><td>21</td><td>13969.18</td></tr><tr><td>2024-12</td><td>Qatar Airways</td><td>16</td><td>11774.9</td></tr><tr><td>2024-12</td><td>Emirates</td><td>13</td><td>11337.08</td></tr><tr><td>2024-12</td><td>United Airlines</td><td>13</td><td>11251.08</td></tr><tr><td>2025-01</td><td>Lufthansa</td><td>19</td><td>14269.07</td></tr><tr><td>2025-01</td><td>Emirates</td><td>19</td><td>14055.73</td></tr><tr><td>2025-01</td><td>Delta</td><td>16</td><td>13941.6</td></tr><tr><td>2025-01</td><td>Qatar Airways</td><td>15</td><td>12435.81</td></tr><tr><td>2025-01</td><td>United Airlines</td><td>14</td><td>8774.83</td></tr><tr><td>2025-02</td><td>United Airlines</td><td>16</td><td>14535.56</td></tr><tr><td>2025-02</td><td>Lufthansa</td><td>17</td><td>13572.98</td></tr><tr><td>2025-02</td><td>Delta</td><td>17</td><td>13069.6</td></tr><tr><td>2025-02</td><td>Qatar Airways</td><td>11</td><td>8073.47</td></tr><tr><td>2025-02</td><td>Emirates</td><td>7</td><td>4216.26</td></tr><tr><td>2025-03</td><td>Qatar Airways</td><td>11</td><td>8804.99</td></tr><tr><td>2025-03</td><td>United Airlines</td><td>6</td><td>5277.53</td></tr><tr><td>2025-03</td><td>Emirates</td><td>7</td><td>5084.51</td></tr><tr><td>2025-03</td><td>Lufthansa</td><td>6</td><td>4211.11</td></tr><tr><td>2025-03</td><td>Delta</td><td>3</td><td>1838.28</td></tr></tbody></table></div>"
      ]
     },
     "metadata": {
      "application/vnd.databricks.v1+output": {
       "addedWidgets": {},
       "aggData": [],
       "aggError": "",
       "aggOverflow": false,
       "aggSchema": [],
       "aggSeriesLimitReached": false,
       "aggType": "",
       "arguments": {},
       "columnCustomDisplayInfos": {},
       "data": [
        [
         "2024-03",
         "Delta",
         18,
         13807.1
        ],
        [
         "2024-03",
         "Emirates",
         13,
         12804.91
        ],
        [
         "2024-03",
         "Lufthansa",
         12,
         11280.24
        ],
        [
         "2024-03",
         "United Airlines",
         11,
         7987.95
        ],
        [
         "2024-03",
         "Qatar Airways",
         8,
         6164.99
        ],
        [
         "2024-04",
         "United Airlines",
         18,
         17090.78
        ],
        [
         "2024-04",
         "Delta",
         20,
         15758.51
        ],
        [
         "2024-04",
         "Qatar Airways",
         18,
         14385.42
        ],
        [
         "2024-04",
         "Lufthansa",
         16,
         11823.63
        ],
        [
         "2024-04",
         "Emirates",
         14,
         10220.32
        ],
        [
         "2024-05",
         "Qatar Airways",
         25,
         19495.16
        ],
        [
         "2024-05",
         "United Airlines",
         19,
         17589.25
        ],
        [
         "2024-05",
         "Lufthansa",
         11,
         9232.47
        ],
        [
         "2024-05",
         "Emirates",
         11,
         9155.82
        ],
        [
         "2024-05",
         "Delta",
         12,
         8921.98
        ],
        [
         "2024-06",
         "Lufthansa",
         24,
         19544.98
        ],
        [
         "2024-06",
         "Emirates",
         23,
         17812.9
        ],
        [
         "2024-06",
         "Qatar Airways",
         18,
         13634.06
        ],
        [
         "2024-06",
         "Delta",
         12,
         7379.81
        ],
        [
         "2024-06",
         "United Airlines",
         10,
         6214.84
        ],
        [
         "2024-07",
         "Qatar Airways",
         19,
         15099.72
        ],
        [
         "2024-07",
         "Delta",
         18,
         14534.63
        ],
        [
         "2024-07",
         "Emirates",
         17,
         12958.66
        ],
        [
         "2024-07",
         "Lufthansa",
         12,
         10729.13
        ],
        [
         "2024-07",
         "United Airlines",
         11,
         10335.31
        ],
        [
         "2024-08",
         "United Airlines",
         25,
         18185.15
        ],
        [
         "2024-08",
         "Qatar Airways",
         18,
         15960.0
        ],
        [
         "2024-08",
         "Emirates",
         18,
         14346.13
        ],
        [
         "2024-08",
         "Lufthansa",
         14,
         11991.48
        ],
        [
         "2024-08",
         "Delta",
         13,
         9952.9
        ],
        [
         "2024-09",
         "Qatar Airways",
         19,
         18581.76
        ],
        [
         "2024-09",
         "Lufthansa",
         17,
         14738.64
        ],
        [
         "2024-09",
         "United Airlines",
         18,
         14032.51
        ],
        [
         "2024-09",
         "Delta",
         16,
         8575.88
        ],
        [
         "2024-09",
         "Emirates",
         14,
         7898.49
        ],
        [
         "2024-10",
         "Emirates",
         23,
         20529.18
        ],
        [
         "2024-10",
         "United Airlines",
         17,
         13543.12
        ],
        [
         "2024-10",
         "Qatar Airways",
         14,
         12234.18
        ],
        [
         "2024-10",
         "Lufthansa",
         13,
         12144.82
        ],
        [
         "2024-10",
         "Delta",
         18,
         11876.38
        ],
        [
         "2024-11",
         "Emirates",
         21,
         15660.16
        ],
        [
         "2024-11",
         "Qatar Airways",
         18,
         13976.57
        ],
        [
         "2024-11",
         "Lufthansa",
         16,
         13123.61
        ],
        [
         "2024-11",
         "Delta",
         17,
         12494.26
        ],
        [
         "2024-11",
         "United Airlines",
         17,
         11248.88
        ],
        [
         "2024-12",
         "Lufthansa",
         17,
         14703.33
        ],
        [
         "2024-12",
         "Delta",
         21,
         13969.18
        ],
        [
         "2024-12",
         "Qatar Airways",
         16,
         11774.9
        ],
        [
         "2024-12",
         "Emirates",
         13,
         11337.08
        ],
        [
         "2024-12",
         "United Airlines",
         13,
         11251.08
        ],
        [
         "2025-01",
         "Lufthansa",
         19,
         14269.07
        ],
        [
         "2025-01",
         "Emirates",
         19,
         14055.73
        ],
        [
         "2025-01",
         "Delta",
         16,
         13941.6
        ],
        [
         "2025-01",
         "Qatar Airways",
         15,
         12435.81
        ],
        [
         "2025-01",
         "United Airlines",
         14,
         8774.83
        ],
        [
         "2025-02",
         "United Airlines",
         16,
         14535.56
        ],
        [
         "2025-02",
         "Lufthansa",
         17,
         13572.98
        ],
        [
         "2025-02",
         "Delta",
         17,
         13069.6
        ],
        [
         "2025-02",
         "Qatar Airways",
         11,
         8073.47
        ],
        [
         "2025-02",
         "Emirates",
         7,
         4216.26
        ],
        [
         "2025-03",
         "Qatar Airways",
         11,
         8804.99
        ],
        [
         "2025-03",
         "United Airlines",
         6,
         5277.53
        ],
        [
         "2025-03",
         "Emirates",
         7,
         5084.51
        ],
        [
         "2025-03",
         "Lufthansa",
         6,
         4211.11
        ],
        [
         "2025-03",
         "Delta",
         3,
         1838.28
        ]
       ],
       "datasetInfos": [],
       "dbfsResultPath": null,
       "isJsonSchema": true,
       "metadata": {},
       "overflow": false,
       "plotOptions": {
        "customPlotOptions": {},
        "displayType": "table",
        "pivotAggregation": null,
        "pivotColumns": null,
        "xColumns": null,
        "yColumns": null
       },
       "removedWidgets": [],
       "schema": [
        {
         "metadata": "{}",
         "name": "booking_month",
         "type": "\"string\""
        },
        {
         "metadata": "{}",
         "name": "airline",
         "type": "\"string\""
        },
        {
         "metadata": "{}",
         "name": "total_bookings",
         "type": "\"long\""
        },
        {
         "metadata": "{}",
         "name": "total_revenue",
         "type": "\"double\""
        }
       ],
       "type": "table"
      }
     },
     "output_type": "display_data"
    },
    {
     "output_type": "display_data",
     "data": {
      "text/plain": [
       "Databricks visualization. Run in Databricks to view."
      ]
     },
     "metadata": {
      "application/vnd.databricks.v1.subcommand+json": {
       "baseErrorDetails": null,
       "bindings": {},
       "collapsed": false,
       "command": "%sql WITH q AS (SELECT\n    DATE_FORMAT(ffb.booking_date, 'yyyy-MM') AS booking_month,\n    ffb.airline,\n    COUNT(ffb.booking_id) AS total_bookings,\n    ROUND(SUM(ffb.ticket_price), 2) AS total_revenue\nFROM\n    fact_flight_bookings ffb\nJOIN\n    dim_city dc_origin ON ffb.origin_city_sk = dc_origin.city_sk\nJOIN\n    dim_city dc_dest ON ffb.destination_city_sk = dc_dest.city_sk\nWHERE\n    ffb.booking_date >= '2024-01-01'\nGROUP BY\n    DATE_FORMAT(ffb.booking_date, 'yyyy-MM'),\n    ffb.airline\nORDER BY\n    booking_month ASC,\n    total_revenue DESC) SELECT `airline`,`total_revenue`,`total_bookings` FROM q",
       "commandTitle": "Visualization 1",
       "commandType": "auto",
       "commandVersion": 0,
       "commentThread": [],
       "commentsVisible": false,
       "contentSha256Hex": null,
       "customPlotOptions": {
        "redashChart": [
         {
          "key": "type",
          "value": "CHART"
         },
         {
          "key": "options",
          "value": {
           "alignYAxesAtZero": true,
           "coefficient": 1,
           "columnConfigurationMap": {
            "series": {
             "column": "total_bookings",
             "id": "column_e9f3b79b179"
            },
            "x": {
             "column": "airline",
             "id": "column_e9f3b79b172"
            },
            "y": [
             {
              "column": "total_revenue",
              "id": "column_e9f3b79b174"
             }
            ]
           },
           "dateTimeFormat": "DD/MM/YYYY HH:mm",
           "direction": {
            "type": "counterclockwise"
           },
           "error_y": {
            "type": "data",
            "visible": true
           },
           "globalSeriesType": "scatter",
           "legend": {
            "traceorder": "normal"
           },
           "missingValuesAsZero": true,
           "numberFormat": "0,0.[00000]",
           "percentFormat": "0[.]00%",
           "series": {
            "error_y": {
             "type": "data",
             "visible": true
            },
            "stacking": null
           },
           "seriesOptions": {
            "column_e9f3b79b174": {
             "type": "scatter",
             "yAxis": 0
            },
            "total_revenue": {
             "type": "scatter",
             "yAxis": 0
            }
           },
           "showDataLabels": false,
           "sizemode": "diameter",
           "sortX": true,
           "sortY": true,
           "swappedAxes": false,
           "textFormat": "",
           "useAggregationsUi": true,
           "valuesOptions": {},
           "version": 2,
           "xAxis": {
            "labels": {
             "enabled": true
            },
            "type": "-"
           },
           "yAxis": [
            {
             "type": "-"
            },
            {
             "opposite": true,
             "type": "-"
            }
           ]
          }
         }
        ]
       },
       "datasetPreviewNameToCmdIdMap": {},
       "diffDeletes": [],
       "diffInserts": [],
       "displayType": "redashChart",
       "error": null,
       "errorDetails": null,
       "errorSummary": null,
       "errorTraceType": null,
       "finishTime": 0,
       "globalVars": {},
       "guid": "",
       "height": "auto",
       "hideCommandCode": false,
       "hideCommandResult": false,
       "iPythonMetadata": null,
       "inputWidgets": {},
       "isLockedInExamMode": false,
       "latestUser": "a user",
       "latestUserId": null,
       "listResultMetadata": null,
       "metadata": {},
       "nuid": "0c163ea8-4d78-4570-b901-fc7b67fbd781",
       "origId": 0,
       "parentHierarchy": [],
       "pivotAggregation": null,
       "pivotColumns": null,
       "position": 18.0,
       "resultDbfsErrorMessage": null,
       "resultDbfsStatus": "INLINED_IN_TREE",
       "results": null,
       "showCommandTitle": false,
       "startTime": 0,
       "state": "input",
       "streamStates": {},
       "subcommandOptions": {
        "queryPlan": {
         "selects": [
          {
           "column": "airline",
           "type": "column"
          },
          {
           "column": "total_revenue",
           "type": "column"
          },
          {
           "column": "total_bookings",
           "type": "column"
          }
         ]
        }
       },
       "submitTime": 0,
       "subtype": "tableResultSubCmd.visualization",
       "tableResultIndex": 0,
       "tableResultSettingsMap": {},
       "useConsistentColors": false,
       "version": "CommandV1",
       "width": "auto",
       "workflows": [],
       "xColumns": null,
       "yColumns": null
      }
     },
     "output_type": "display_data"
    }
   ],
   "source": [
    "%sql\n",
    "SELECT\n",
    "    DATE_FORMAT(ffb.booking_date, 'yyyy-MM') AS booking_month,\n",
    "    ffb.airline,\n",
    "    COUNT(ffb.booking_id) AS total_bookings,\n",
    "    ROUND(SUM(ffb.ticket_price), 2) AS total_revenue\n",
    "FROM\n",
    "    fact_flight_bookings ffb\n",
    "JOIN\n",
    "    dim_city dc_origin ON ffb.origin_city_sk = dc_origin.city_sk\n",
    "JOIN\n",
    "    dim_city dc_dest ON ffb.destination_city_sk = dc_dest.city_sk\n",
    "WHERE\n",
    "    ffb.booking_date >= '2024-01-01'\n",
    "GROUP BY\n",
    "    DATE_FORMAT(ffb.booking_date, 'yyyy-MM'),\n",
    "    ffb.airline\n",
    "ORDER BY\n",
    "    booking_month ASC,\n",
    "    total_revenue DESC;\n"
   ]
  },
  {
   "cell_type": "markdown",
   "metadata": {
    "application/vnd.databricks.v1+cell": {
     "cellMetadata": {},
     "inputWidgets": {},
     "nuid": "471a3ffe-279d-48b6-b677-c03fab8369aa",
     "showTitle": false,
     "tableResultSettingsMap": {},
     "title": ""
    }
   },
   "source": [
    "###Top Attractions by Revenue and Visitor Ratings "
   ]
  },
  {
   "cell_type": "code",
   "execution_count": 0,
   "metadata": {
    "application/vnd.databricks.v1+cell": {
     "cellMetadata": {
      "byteLimit": 2048000,
      "implicitDf": true,
      "rowLimit": 10000
     },
     "inputWidgets": {},
     "nuid": "12c0e49d-46f0-4a24-b496-5cd52db79508",
     "showTitle": false,
     "tableResultSettingsMap": {},
     "title": ""
    }
   },
   "outputs": [
    {
     "output_type": "display_data",
     "data": {
      "text/html": [
       "<style scoped>\n",
       "  .table-result-container {\n",
       "    max-height: 300px;\n",
       "    overflow: auto;\n",
       "  }\n",
       "  table, th, td {\n",
       "    border: 1px solid black;\n",
       "    border-collapse: collapse;\n",
       "  }\n",
       "  th, td {\n",
       "    padding: 5px;\n",
       "  }\n",
       "  th {\n",
       "    text-align: left;\n",
       "  }\n",
       "</style><div class='table-result-container'><table class='table-result'><thead style='background-color: white'><tr><th>attraction_name</th><th>attraction_city</th><th>total_revenue</th><th>avg_rating</th><th>total_visitors</th></tr></thead><tbody><tr><td>Statue of Liberty</td><td>New York</td><td>6643657.88</td><td>3.99</td><td>125911</td></tr><tr><td>Great Wall</td><td>Beijing</td><td>6297677.77</td><td>4.0</td><td>118007</td></tr><tr><td>Eiffel Tower</td><td>Paris</td><td>6295144.53</td><td>3.96</td><td>111755</td></tr><tr><td>Burj Khalifa</td><td>Dubai</td><td>5609753.97</td><td>4.04</td><td>103792</td></tr><tr><td>Sydney Opera House</td><td>Sydney</td><td>4540502.98</td><td>3.93</td><td>82627</td></tr></tbody></table></div>"
      ]
     },
     "metadata": {
      "application/vnd.databricks.v1+output": {
       "addedWidgets": {},
       "aggData": [],
       "aggError": "",
       "aggOverflow": false,
       "aggSchema": [],
       "aggSeriesLimitReached": false,
       "aggType": "",
       "arguments": {},
       "columnCustomDisplayInfos": {},
       "data": [
        [
         "Statue of Liberty",
         "New York",
         6643657.88,
         3.99,
         125911
        ],
        [
         "Great Wall",
         "Beijing",
         6297677.77,
         4.0,
         118007
        ],
        [
         "Eiffel Tower",
         "Paris",
         6295144.53,
         3.96,
         111755
        ],
        [
         "Burj Khalifa",
         "Dubai",
         5609753.97,
         4.04,
         103792
        ],
        [
         "Sydney Opera House",
         "Sydney",
         4540502.98,
         3.93,
         82627
        ]
       ],
       "datasetInfos": [],
       "dbfsResultPath": null,
       "isJsonSchema": true,
       "metadata": {},
       "overflow": false,
       "plotOptions": {
        "customPlotOptions": {},
        "displayType": "table",
        "pivotAggregation": null,
        "pivotColumns": null,
        "xColumns": null,
        "yColumns": null
       },
       "removedWidgets": [],
       "schema": [
        {
         "metadata": "{}",
         "name": "attraction_name",
         "type": "\"string\""
        },
        {
         "metadata": "{}",
         "name": "attraction_city",
         "type": "\"string\""
        },
        {
         "metadata": "{}",
         "name": "total_revenue",
         "type": "\"double\""
        },
        {
         "metadata": "{}",
         "name": "avg_rating",
         "type": "\"double\""
        },
        {
         "metadata": "{}",
         "name": "total_visitors",
         "type": "\"long\""
        }
       ],
       "type": "table"
      }
     },
     "output_type": "display_data"
    },
    {
     "output_type": "display_data",
     "data": {
      "text/plain": [
       "Databricks visualization. Run in Databricks to view."
      ]
     },
     "metadata": {
      "application/vnd.databricks.v1.subcommand+json": {
       "baseErrorDetails": null,
       "bindings": {},
       "collapsed": false,
       "command": "%sql WITH q AS (SELECT\n    da.attraction_name,\n    dc.city AS attraction_city,\n    ROUND(SUM(fav.revenue), 2) AS total_revenue,\n    ROUND(AVG(fav.average_rating), 2) AS avg_rating,\n    SUM(fav.visitors_count) AS total_visitors\nFROM\n    fact_attractions_visits fav\nJOIN\n    dim_attraction da ON fav.attraction_sk = da.attraction_sk\nJOIN\n    dim_city dc ON fav.city_sk = dc.city_sk\nGROUP BY\n    da.attraction_name,\n    dc.city\nORDER BY\n    total_revenue DESC,\n    avg_rating DESC\nLIMIT 100) SELECT `attraction_name`,`avg_rating`,SUM(`total_revenue`) `column_e9f3b79b186` FROM q GROUP BY `attraction_name`,`avg_rating`",
       "commandTitle": "Visualization 1",
       "commandType": "auto",
       "commandVersion": 0,
       "commentThread": [],
       "commentsVisible": false,
       "contentSha256Hex": null,
       "customPlotOptions": {
        "redashChart": [
         {
          "key": "type",
          "value": "CHART"
         },
         {
          "key": "options",
          "value": {
           "alignYAxesAtZero": true,
           "coefficient": 1,
           "columnConfigurationMap": {
            "x": {
             "column": "attraction_name",
             "id": "column_e9f3b79b183"
            },
            "y": [
             {
              "column": "avg_rating",
              "id": "column_e9f3b79b181"
             }
            ],
            "zVal": {
             "column": "total_revenue",
             "id": "column_e9f3b79b186",
             "transform": "SUM"
            }
           },
           "dateTimeFormat": "DD/MM/YYYY HH:mm",
           "direction": {
            "type": "counterclockwise"
           },
           "error_y": {
            "type": "data",
            "visible": true
           },
           "globalSeriesType": "heatmap",
           "isAggregationOn": true,
           "legend": {
            "traceorder": "normal"
           },
           "missingValuesAsZero": true,
           "numberFormat": "0,0.[00000]",
           "percentFormat": "0[.]00%",
           "series": {
            "error_y": {
             "type": "data",
             "visible": true
            },
            "stacking": null
           },
           "seriesOptions": {
            "column_e9f3b79b181": {
             "type": "heatmap",
             "yAxis": 0
            }
           },
           "showDataLabels": false,
           "sizemode": "diameter",
           "sortX": true,
           "sortY": true,
           "swappedAxes": false,
           "textFormat": "",
           "useAggregationsUi": true,
           "valuesOptions": {},
           "version": 2,
           "xAxis": {
            "labels": {
             "enabled": true
            },
            "type": "-"
           },
           "yAxis": [
            {
             "type": "-"
            },
            {
             "opposite": true,
             "type": "-"
            }
           ]
          }
         }
        ]
       },
       "datasetPreviewNameToCmdIdMap": {},
       "diffDeletes": [],
       "diffInserts": [],
       "displayType": "redashChart",
       "error": null,
       "errorDetails": null,
       "errorSummary": null,
       "errorTraceType": null,
       "finishTime": 0,
       "globalVars": {},
       "guid": "",
       "height": "auto",
       "hideCommandCode": false,
       "hideCommandResult": false,
       "iPythonMetadata": null,
       "inputWidgets": {},
       "isLockedInExamMode": false,
       "latestUser": "a user",
       "latestUserId": null,
       "listResultMetadata": null,
       "metadata": {},
       "nuid": "45971982-1359-4490-aada-1cbc4d80350d",
       "origId": 0,
       "parentHierarchy": [],
       "pivotAggregation": null,
       "pivotColumns": null,
       "position": 18.25,
       "resultDbfsErrorMessage": null,
       "resultDbfsStatus": "INLINED_IN_TREE",
       "results": null,
       "showCommandTitle": false,
       "startTime": 0,
       "state": "input",
       "streamStates": {},
       "subcommandOptions": {
        "queryPlan": {
         "groups": [
          {
           "column": "attraction_name",
           "type": "column"
          },
          {
           "column": "avg_rating",
           "type": "column"
          }
         ],
         "selects": [
          {
           "column": "attraction_name",
           "type": "column"
          },
          {
           "column": "avg_rating",
           "type": "column"
          },
          {
           "alias": "column_e9f3b79b186",
           "args": [
            {
             "column": "total_revenue",
             "type": "column"
            }
           ],
           "function": "SUM",
           "type": "function"
          }
         ]
        }
       },
       "submitTime": 0,
       "subtype": "tableResultSubCmd.visualization",
       "tableResultIndex": 0,
       "tableResultSettingsMap": {},
       "useConsistentColors": false,
       "version": "CommandV1",
       "width": "auto",
       "workflows": [],
       "xColumns": null,
       "yColumns": null
      }
     },
     "output_type": "display_data"
    }
   ],
   "source": [
    "\n",
    "%sql\n",
    "SELECT\n",
    "    da.attraction_name,\n",
    "    dc.city AS attraction_city,\n",
    "    ROUND(SUM(fav.revenue), 2) AS total_revenue,\n",
    "    ROUND(AVG(fav.average_rating), 2) AS avg_rating,\n",
    "    SUM(fav.visitors_count) AS total_visitors\n",
    "FROM\n",
    "    fact_attractions_visits fav\n",
    "JOIN\n",
    "    dim_attraction da ON fav.attraction_sk = da.attraction_sk\n",
    "JOIN\n",
    "    dim_city dc ON fav.city_sk = dc.city_sk\n",
    "GROUP BY\n",
    "    da.attraction_name,\n",
    "    dc.city\n",
    "ORDER BY\n",
    "    total_revenue DESC,\n",
    "    avg_rating DESC\n",
    "LIMIT 100;\n"
   ]
  }
 ],
 "metadata": {
  "application/vnd.databricks.v1+notebook": {
   "computePreferences": null,
   "dashboards": [],
   "environmentMetadata": {
    "base_environment": "",
    "client": "1"
   },
   "language": "python",
   "notebookMetadata": {
    "mostRecentlyExecutedCommandWithImplicitDF": {
     "commandId": 3666247837343746,
     "dataframes": [
      "_sqldf"
     ]
    },
    "pythonIndentUnit": 4
   },
   "notebookName": "ETL PIPELINE",
   "widgets": {}
  }
 },
 "nbformat": 4,
 "nbformat_minor": 0
}
